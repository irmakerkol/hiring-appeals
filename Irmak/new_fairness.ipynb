{
  "cells": [
    {
      "cell_type": "code",
      "execution_count": 1,
      "metadata": {
        "id": "y973hUFI5DMc"
      },
      "outputs": [],
      "source": [
        "import pandas as pd"
      ]
    },
    {
      "cell_type": "code",
      "execution_count": 2,
      "metadata": {
        "colab": {
          "base_uri": "https://localhost:8080/"
        },
        "id": "7UYDpl8U5cxa",
        "outputId": "c85d13a3-eb61-4757-f50e-66115d1b5001"
      },
      "outputs": [
        {
          "name": "stdout",
          "output_type": "stream",
          "text": [
            "   sex_male  race_white  years_experience  referred      gcse   a_level  \\\n",
            "0         0           1          0.265328         1  0.148817  1.115547   \n",
            "1         0           1         -1.126253         0  0.148817  1.115547   \n",
            "2         1           0         -0.082567         1  0.148817 -1.013021   \n",
            "3         1           1          0.265328         1 -1.065188  0.051263   \n",
            "4         1           1         -0.778358         1 -1.065188  0.051263   \n",
            "\n",
            "   russell_group  honours  years_volunteer    income  it_skills  years_gaps  \\\n",
            "0              1        1         2.139888 -0.740776  -0.712629    1.428393   \n",
            "1              1        1        -0.704762 -0.229262   0.363037   -0.704067   \n",
            "2              0        0        -0.704762 -1.325363  -1.788296   -0.704067   \n",
            "3              0        0        -0.704762  1.414890   0.363037    0.362163   \n",
            "4              0        0         0.717563  0.757230   1.438704   -0.704067   \n",
            "\n",
            "   quality_cv  employed_yes  \n",
            "0   -0.919143             1  \n",
            "1    0.253981             0  \n",
            "2    0.253981             0  \n",
            "3   -0.919143             0  \n",
            "4    1.427106             0  \n",
            "6000\n"
          ]
        }
      ],
      "source": [
        "url = \"https://raw.githubusercontent.com/CDEIUK/bias-mitigation/refs/heads/master/artifacts/data/recruiting/processed/train.csv\"\n",
        "\n",
        "test = pd.read_csv(url)\n",
        "print(test.head())\n",
        "print(len(test))"
      ]
    },
    {
      "cell_type": "code",
      "execution_count": 3,
      "metadata": {
        "colab": {
          "base_uri": "https://localhost:8080/"
        },
        "id": "CSKHLU3e55Of",
        "outputId": "b73f3789-4f0d-4185-ce08-cf2916202fa8"
      },
      "outputs": [
        {
          "name": "stdout",
          "output_type": "stream",
          "text": [
            "White and employed: 674\n"
          ]
        }
      ],
      "source": [
        "# White and employed\n",
        "whiteEmployed_df = test[(test['race_white'] == 0) & (test['employed_yes'] == 1)]\n",
        "\n",
        "whiteEmployed_df_count = len(whiteEmployed_df)\n",
        "\n",
        "print(f\"White and employed: {whiteEmployed_df_count}\")"
      ]
    },
    {
      "cell_type": "code",
      "execution_count": 4,
      "metadata": {
        "colab": {
          "base_uri": "https://localhost:8080/"
        },
        "id": "R6RitdHq8Yio",
        "outputId": "7ee793bc-3225-4736-d68e-0a51d29f8838"
      },
      "outputs": [
        {
          "name": "stdout",
          "output_type": "stream",
          "text": [
            "Colored and employed: 674\n"
          ]
        }
      ],
      "source": [
        "# Colored and employed\n",
        "whiteEmployed_df = test[(test['race_white'] == 0) & (test['employed_yes'] == 1)]\n",
        "\n",
        "whiteEmployed_df_count = len(whiteEmployed_df)\n",
        "\n",
        "print(f\"Colored and employed: {whiteEmployed_df_count}\")"
      ]
    },
    {
      "cell_type": "code",
      "execution_count": 5,
      "metadata": {
        "colab": {
          "base_uri": "https://localhost:8080/"
        },
        "id": "N7fU-ajMWm3Q",
        "outputId": "f07af73d-ee3b-4a25-cf57-a453518ae2b1"
      },
      "outputs": [
        {
          "name": "stdout",
          "output_type": "stream",
          "text": [
            "Male and employed: 1401\n"
          ]
        }
      ],
      "source": [
        "# Male ve employed\n",
        "whiteEmployed_df = test[(test['sex_male'] == 1) & (test['employed_yes'] == 1)]\n",
        "\n",
        "whiteEmployed_df_count = len(whiteEmployed_df)\n",
        "\n",
        "print(f\"Male and employed: {whiteEmployed_df_count}\")"
      ]
    },
    {
      "cell_type": "code",
      "execution_count": 6,
      "metadata": {
        "colab": {
          "base_uri": "https://localhost:8080/"
        },
        "id": "nGqWheeKWp18",
        "outputId": "713f3e99-f614-47fa-c164-35141b327ce4"
      },
      "outputs": [
        {
          "name": "stdout",
          "output_type": "stream",
          "text": [
            "Female and employed: 884\n"
          ]
        }
      ],
      "source": [
        "# Female ve employed\n",
        "whiteEmployed_df = test[(test['sex_male'] == 0) & (test['employed_yes'] == 1)]\n",
        "\n",
        "whiteEmployed_df_count = len(whiteEmployed_df)\n",
        "\n",
        "print(f\"Female and employed: {whiteEmployed_df_count}\")"
      ]
    },
    {
      "cell_type": "markdown",
      "metadata": {
        "id": "_v1mOiSK6Q_V"
      },
      "source": [
        "race ve genderların eşit olması lazım\n",
        "datasette eşit AMA\n",
        "white olduğunun imply eden ve black olduğunu imply eden özelliklerin de hiring kararında eşit olması lazım\n",
        "bunu yapıp yapmadaıüını analiz etmemiz lazım"
      ]
    },
    {
      "cell_type": "markdown",
      "metadata": {
        "id": "4TDCG86_64me"
      },
      "source": [
        "VE demograohic parity"
      ]
    },
    {
      "cell_type": "code",
      "execution_count": 7,
      "metadata": {
        "colab": {
          "base_uri": "https://localhost:8080/"
        },
        "id": "7h2IxN6l63MO",
        "outputId": "4f6273cb-b48c-4299-86ad-080782b3eaf6"
      },
      "outputs": [
        {
          "name": "stdout",
          "output_type": "stream",
          "text": [
            "          employed_yes\n",
            "sex_male              \n",
            "0             0.295159\n",
            "1             0.466223\n"
          ]
        }
      ],
      "source": [
        "employed_by_sex = test[[\"sex_male\", \"employed_yes\"]].groupby(\"sex_male\").mean()\n",
        "print(employed_by_sex)\n"
      ]
    },
    {
      "cell_type": "markdown",
      "metadata": {
        "id": "gZEqzJ4p9Dlo"
      },
      "source": [
        "Karar aşamasında female karakteristik insanları reject etme olasılığı daha yüksek"
      ]
    },
    {
      "cell_type": "code",
      "execution_count": 8,
      "metadata": {
        "colab": {
          "base_uri": "https://localhost:8080/"
        },
        "id": "w_2YULNd7oNC",
        "outputId": "75067a94-e975-47a8-fe04-3ff01fc27ec9"
      },
      "outputs": [
        {
          "name": "stdout",
          "output_type": "stream",
          "text": [
            "            employed_yes\n",
            "race_white              \n",
            "0               0.230743\n",
            "1               0.523222\n"
          ]
        }
      ],
      "source": [
        "employed_by_race = test[[\"race_white\", \"employed_yes\"]].groupby(\"race_white\").mean()\n",
        "print(employed_by_race)\n"
      ]
    },
    {
      "cell_type": "markdown",
      "metadata": {
        "id": "OC16yqZo9SeO"
      },
      "source": [
        "Acceptad'larda eşit olsa bile rejectadlarda beyaz olmayanlar daha çok reject edilebilir -> beyaz karakteristikleri olmayanların kabul edilme olasılığı daha düşük olabilir"
      ]
    },
    {
      "cell_type": "code",
      "execution_count": 9,
      "metadata": {
        "colab": {
          "base_uri": "https://localhost:8080/"
        },
        "id": "34KnzYZO93pM",
        "outputId": "cd0ae93a-e2bd-4a9c-d951-b2a06adbebdc"
      },
      "outputs": [
        {
          "name": "stdout",
          "output_type": "stream",
          "text": [
            "            quality_cv\n",
            "race_white            \n",
            "0             0.006184\n",
            "1            -0.005866\n"
          ]
        }
      ],
      "source": [
        "cv_by_race = test[[\"race_white\", \"quality_cv\"]].groupby(\"race_white\").mean()\n",
        "print(cv_by_race)\n"
      ]
    },
    {
      "cell_type": "markdown",
      "metadata": {
        "id": "U-CaEV-l9_wz"
      },
      "source": [
        "racial disparity yok -> racist bastards"
      ]
    },
    {
      "cell_type": "code",
      "execution_count": 10,
      "metadata": {
        "colab": {
          "base_uri": "https://localhost:8080/"
        },
        "id": "SCwW2tGe-HBi",
        "outputId": "e444efe0-e880-4993-d98d-d2eafff5f6b2"
      },
      "outputs": [
        {
          "name": "stdout",
          "output_type": "stream",
          "text": [
            "          quality_cv\n",
            "sex_male            \n",
            "0           0.009956\n",
            "1          -0.009923\n"
          ]
        }
      ],
      "source": [
        "cv_by_sex = test[[\"sex_male\", \"quality_cv\"]].groupby(\"sex_male\").mean()\n",
        "print(cv_by_sex)\n"
      ]
    },
    {
      "cell_type": "markdown",
      "metadata": {
        "id": "-zlcL3OD-QjC"
      },
      "source": [
        "sexual disparity yok"
      ]
    },
    {
      "cell_type": "code",
      "execution_count": 11,
      "metadata": {
        "colab": {
          "base_uri": "https://localhost:8080/"
        },
        "id": "JG6EL1n8_xkY",
        "outputId": "507523e1-630c-4095-86c4-d0cdb549d8e0"
      },
      "outputs": [],
      "source": [
        "from pathlib import Path\n",
        "import joblib\n",
        "\n",
        "\n",
        "from fairlearn.metrics import (\n",
        "    demographic_parity_difference,\n",
        "    demographic_parity_ratio,\n",
        "    equalized_odds_difference,\n",
        "    equalized_odds_ratio,\n",
        ")"
      ]
    },
    {
      "cell_type": "code",
      "execution_count": 12,
      "metadata": {
        "colab": {
          "base_uri": "https://localhost:8080/"
        },
        "id": "uCqWjJsZ_dpP",
        "outputId": "b2b16788-f28d-4b72-d84f-f64c2a4c2a27"
      },
      "outputs": [
        {
          "name": "stderr",
          "output_type": "stream",
          "text": [
            "c:\\Users\\suuser\\AppData\\Local\\anaconda3\\envs\\DSA201\\Lib\\site-packages\\sklearn\\base.py:380: InconsistentVersionWarning: Trying to unpickle estimator LabelBinarizer from version 0.23.1 when using version 1.6.1. This might lead to breaking code or invalid results. Use at your own risk. For more info please refer to:\n",
            "https://scikit-learn.org/stable/model_persistence.html#security-maintainability-limitations\n",
            "  warnings.warn(\n",
            "c:\\Users\\suuser\\AppData\\Local\\anaconda3\\envs\\DSA201\\Lib\\site-packages\\sklearn\\base.py:380: InconsistentVersionWarning: Trying to unpickle estimator MLPClassifier from version 0.23.1 when using version 1.6.1. This might lead to breaking code or invalid results. Use at your own risk. For more info please refer to:\n",
            "https://scikit-learn.org/stable/model_persistence.html#security-maintainability-limitations\n",
            "  warnings.warn(\n"
          ]
        }
      ],
      "source": [
        "test_url = \"https://raw.githubusercontent.com/CDEIUK/bias-mitigation/refs/heads/master/artifacts/data/recruiting/processed/test.csv\"\n",
        "test = pd.read_csv(test_url)\n",
        "test_raw_url = \"https://raw.githubusercontent.com/CDEIUK/bias-mitigation/refs/heads/master/artifacts/data/recruiting/raw/test.csv\"\n",
        "test_raw = pd.read_csv(test_raw_url)\n",
        "\n",
        "model = joblib.load(\"baseline.pkl\")"
      ]
    },
    {
      "cell_type": "code",
      "execution_count": 13,
      "metadata": {
        "colab": {
          "base_uri": "https://localhost:8080/"
        },
        "id": "-LHA-txQCQ1H",
        "outputId": "215672bf-4980-4e42-a4ea-884f11abbb70"
      },
      "outputs": [
        {
          "name": "stdout",
          "output_type": "stream",
          "text": [
            "Test accuracy: 86.15%\n"
          ]
        },
        {
          "name": "stderr",
          "output_type": "stream",
          "text": [
            "c:\\Users\\suuser\\AppData\\Local\\anaconda3\\envs\\DSA201\\Lib\\site-packages\\sklearn\\utils\\validation.py:2732: UserWarning: X has feature names, but MLPClassifier was fitted without feature names\n",
            "  warnings.warn(\n",
            "c:\\Users\\suuser\\AppData\\Local\\anaconda3\\envs\\DSA201\\Lib\\site-packages\\sklearn\\utils\\validation.py:2732: UserWarning: X has feature names, but MLPClassifier was fitted without feature names\n",
            "  warnings.warn(\n"
          ]
        }
      ],
      "source": [
        "test_prob = model.predict_proba(test.drop(columns=\"employed_yes\"))[:, 1]\n",
        "test_pred = test_prob > 0.5\n",
        "test_accuracy = model.score(\n",
        "    test.drop(columns=\"employed_yes\"), test.employed_yes\n",
        ")\n",
        "print(f\"Test accuracy: {test_accuracy * 100:.2f}%\")"
      ]
    },
    {
      "cell_type": "code",
      "execution_count": 14,
      "metadata": {
        "colab": {
          "base_uri": "https://localhost:8080/"
        },
        "id": "xbCXNUo-_DD8",
        "outputId": "00e383ab-5383-4f4f-dee7-3a4c634c99b1"
      },
      "outputs": [
        {
          "name": "stdout",
          "output_type": "stream",
          "text": [
            "Demographic parity difference: 0.173\n",
            "Demographic parity ratio: 0.590\n"
          ]
        }
      ],
      "source": [
        "dpd = demographic_parity_difference(\n",
        "    test.employed_yes, test_pred, sensitive_features=test.sex_male,\n",
        ")\n",
        "dpr = demographic_parity_ratio(\n",
        "    test.employed_yes, test_pred, sensitive_features=test.sex_male,\n",
        ")\n",
        "\n",
        "print(f\"Demographic parity difference: {dpd:.3f}\")\n",
        "print(f\"Demographic parity ratio: {dpr:.3f}\")"
      ]
    },
    {
      "cell_type": "code",
      "execution_count": 15,
      "metadata": {
        "colab": {
          "base_uri": "https://localhost:8080/"
        },
        "id": "Z4EbHmu1Cdax",
        "outputId": "c437edea-a802-4fcc-bdec-8edd7a6151f1"
      },
      "outputs": [
        {
          "name": "stdout",
          "output_type": "stream",
          "text": [
            "Demographic parity difference: 0.327\n",
            "Demographic parity ratio: 0.345\n"
          ]
        }
      ],
      "source": [
        "dpd = demographic_parity_difference(\n",
        "    test.employed_yes, test_pred, sensitive_features=test.race_white,\n",
        ")\n",
        "dpr = demographic_parity_ratio(\n",
        "    test.employed_yes, test_pred, sensitive_features=test.race_white,\n",
        ")\n",
        "\n",
        "print(f\"Demographic parity difference: {dpd:.3f}\")\n",
        "print(f\"Demographic parity ratio: {dpr:.3f}\")"
      ]
    },
    {
      "cell_type": "markdown",
      "metadata": {
        "id": "AvqO6HakDFGG"
      },
      "source": [
        "Race'de ration yüksek. Yani racistler. 1'e yaklaştırmak istiyoruz. (Include DEI programs hehe)"
      ]
    },
    {
      "cell_type": "code",
      "execution_count": 16,
      "metadata": {
        "colab": {
          "base_uri": "https://localhost:8080/"
        },
        "id": "AeP6Z_caDfSH",
        "outputId": "f96d42ec-0e73-4cd9-c929-30ac46bacd6e"
      },
      "outputs": [
        {
          "name": "stdout",
          "output_type": "stream",
          "text": [
            "Equalised odds difference: 0.088\n",
            "Equalised odds ratio: 0.650\n"
          ]
        }
      ],
      "source": [
        "eod = equalized_odds_difference(\n",
        "    test.employed_yes, test_pred, sensitive_features=test.sex_male,\n",
        ")\n",
        "eor = equalized_odds_ratio(\n",
        "    test.employed_yes, test_pred, sensitive_features=test.sex_male,\n",
        ")\n",
        "\n",
        "print(f\"Equalised odds difference: {eod:.3f}\")\n",
        "print(f\"Equalised odds ratio: {eor:.3f}\")"
      ]
    },
    {
      "cell_type": "markdown",
      "metadata": {
        "id": "UbxYA9UcDhol"
      },
      "source": [
        "Difference küçücük."
      ]
    },
    {
      "cell_type": "code",
      "execution_count": 17,
      "metadata": {
        "colab": {
          "base_uri": "https://localhost:8080/"
        },
        "id": "ZuS856KXD5JX",
        "outputId": "5cebe2bf-e4bb-4de1-df64-8e4ed0e54fd8"
      },
      "outputs": [
        {
          "name": "stdout",
          "output_type": "stream",
          "text": [
            "Equalised odds difference: 0.133\n",
            "Equalised odds ratio: 0.246\n"
          ]
        }
      ],
      "source": [
        "eod = equalized_odds_difference(\n",
        "    test.employed_yes, test_pred, sensitive_features=test.race_white,\n",
        ")\n",
        "eor = equalized_odds_ratio(\n",
        "    test.employed_yes, test_pred, sensitive_features=test.race_white,\n",
        ")\n",
        "\n",
        "print(f\"Equalised odds difference: {eod:.3f}\")\n",
        "print(f\"Equalised odds ratio: {eor:.3f}\")"
      ]
    },
    {
      "cell_type": "markdown",
      "metadata": {
        "id": "1Gt3Uv0bD_ul"
      },
      "source": [
        "Bunda difference daha yüksek. Rac,st rather than sexist."
      ]
    },
    {
      "cell_type": "code",
      "execution_count": 18,
      "metadata": {
        "colab": {
          "base_uri": "https://localhost:8080/",
          "height": 564
        },
        "id": "KX2HDziPFNfE",
        "outputId": "5159cd1d-577e-4af8-f81f-51ef0c24dfcd"
      },
      "outputs": [
        {
          "data": {
            "image/png": "[encoded data removed]",
            "text/plain": [
              "<Figure size 800x600 with 2 Axes>"
            ]
          },
          "metadata": {},
          "output_type": "display_data"
        }
      ],
      "source": [
        "import matplotlib.pyplot as plt\n",
        "import seaborn as sns\n",
        "from sklearn.metrics import confusion_matrix\n",
        "import pandas as pd\n",
        "\n",
        "# Assuming 'test' DataFrame and 'test_pred' predictions are already defined\n",
        "\n",
        "# Replace 'your_column_name' with the actual column name you want to use\n",
        "column_of_interest = \"sex_male\"\n",
        "\n",
        "# Ensure the column exists in your DataFrame\n",
        "if column_of_interest in test.columns:\n",
        "    # Create the confusion matrix\n",
        "    cm = confusion_matrix(test[column_of_interest], test_pred)\n",
        "\n",
        "    # Define labels for the plot (replace with your actual label names)\n",
        "    labels = ['Class 0', 'Class 1'] # Replace with meaningful labels for your column\n",
        "\n",
        "    # Create a heatmap for the confusion matrix\n",
        "    plt.figure(figsize=(8, 6))\n",
        "    sns.heatmap(cm, annot=True, fmt='d', cmap='Blues', xticklabels=labels, yticklabels=labels)\n",
        "    plt.xlabel('Predicted Label')\n",
        "    plt.ylabel('True Label')\n",
        "    plt.title(f'Confusion Matrix for {column_of_interest}')\n",
        "    plt.show()\n"
      ]
    },
    {
      "cell_type": "code",
      "execution_count": 19,
      "metadata": {
        "colab": {
          "base_uri": "https://localhost:8080/",
          "height": 564
        },
        "id": "8iIPNOpNFnU-",
        "outputId": "e4918f71-641b-4a17-ad1b-14250b09270d"
      },
      "outputs": [
        {
          "data": {
            "image/png": "[encoded data removed]",
            "text/plain": [
              "<Figure size 800x600 with 2 Axes>"
            ]
          },
          "metadata": {},
          "output_type": "display_data"
        }
      ],
      "source": [
        "import matplotlib.pyplot as plt\n",
        "import seaborn as sns\n",
        "from sklearn.metrics import confusion_matrix\n",
        "import pandas as pd\n",
        "\n",
        "\n",
        "column_of_interest = \"race_white\"\n",
        "\n",
        "# Ensure the column exists in your DataFrame\n",
        "if column_of_interest in test.columns:\n",
        "    # Create the confusion matrix\n",
        "    cm = confusion_matrix(test[column_of_interest], test_pred)\n",
        "\n",
        "    # Define labels for the plot (replace with your actual label names)\n",
        "    labels = ['Class 0', 'Class 1'] # Replace with meaningful labels for your column\n",
        "\n",
        "    # Create a heatmap for the confusion matrix\n",
        "    plt.figure(figsize=(8, 6))\n",
        "    sns.heatmap(cm, annot=True, fmt='d', cmap='Blues', xticklabels=labels, yticklabels=labels)\n",
        "    plt.xlabel('Predicted Label')\n",
        "    plt.ylabel('True Label')\n",
        "    plt.title(f'Confusion Matrix for {column_of_interest}')\n",
        "    plt.show()\n"
      ]
    },
    {
      "cell_type": "markdown",
      "metadata": {
        "id": "cqXfcbXSFuNK"
      },
      "source": [
        "is racist"
      ]
    },
    {
      "cell_type": "markdown",
      "metadata": {
        "id": "agjT5ud4F4I8"
      },
      "source": [
        "Modelin accuracy .8in üstünde olsa da protected karakteristikler var hire edilen insanlarda. Bunlardan sex herhangib ir ciddi male-female farklılığı göstermiyor. Bu yüzden bunun zerine train edilecek harhangi bir model sexism açısında ciddi bir sorun yaratmayacaktır diye tahmin ediyoruz.\n",
        "\n",
        "On the other hand, beyazlar ve diğer ırklar arasında demografik farklılık var. Özellikle hire edilip edilmeme konusunda. Modeli race göz önünde bulundurmadan train edilse bile bu insanların karakteristikleri diğer featurlar arasnda encoded olabilir ve bu sebeple racism fark edilmeden yapılablir.\n",
        "\n",
        "2 protected karakteristikten de bahsettik. Done. Gelince bunlara çözüm bulmamız lazım. Başka bir model train yarınlü ekip edecek :)"
      ]
    },
    {
      "cell_type": "markdown",
      "metadata": {
        "id": "sSJTgEoYaXdT"
      },
      "source": []
    },
    {
      "cell_type": "markdown",
      "metadata": {
        "id": "_19lQCToaz0i"
      },
      "source": [
        "Hedef: DP Difference = 0 ve DP Ratio = 1\n",
        "\n",
        "kısaca model beyazlara göre beyaz olmayanları daha az işe alıyor."
      ]
    },
    {
      "cell_type": "markdown",
      "metadata": {},
      "source": [
        "eps=0.01 demek “DP farkı en fazla %1 olsun” diyoruz.\n",
        "\n",
        "Eps’i biraz artırıp/azaltarak accuracy-fairness arasındaki dengeyi görebilirsin."
      ]
    },
    {
      "cell_type": "markdown",
      "metadata": {},
      "source": [
        "Eğittiğin herhangi bir modeli (ör. RandomForest) aldıktan sonra, çıktılarına ThresholdOptimizer uygulayarak da DP’ı sıfıra yaklaştırabilirsin."
      ]
    },
    {
      "cell_type": "code",
      "execution_count": 20,
      "metadata": {},
      "outputs": [
        {
          "name": "stderr",
          "output_type": "stream",
          "text": [
            "WARNING:root:No module named 'tensorflow': AdversarialDebiasing will be unavailable. To install, run:\n",
            "pip install 'aif360[AdversarialDebiasing]'\n",
            "WARNING:root:No module named 'tensorflow': AdversarialDebiasing will be unavailable. To install, run:\n",
            "pip install 'aif360[AdversarialDebiasing]'\n",
            "WARNING:root:No module named 'inFairness': SenSeI and SenSR will be unavailable. To install, run:\n",
            "pip install 'aif360[inFairness]'\n"
          ]
        },
        {
          "name": "stdout",
          "output_type": "stream",
          "text": [
            "\n",
            "=== Baseline RF ===\n",
            "Accuracy: 84.65%\n",
            "race_white   | DP Diff:  0.333  DP Ratio:  0.355  EO TPR Diff:  0.144  EO FPR Diff:  0.131\n",
            "sex_male     | DP Diff:  0.162  DP Ratio:  0.625  EO TPR Diff:  0.080  EO FPR Diff:  0.027\n",
            "\n",
            "=== Reweighing (race_white) ===\n",
            "Accuracy: 84.25%\n",
            "race_white   | DP Diff:  0.313  DP Ratio:  0.382  EO TPR Diff:  0.124  EO FPR Diff:  0.112\n",
            "sex_male     | DP Diff:  0.152  DP Ratio:  0.644  EO TPR Diff:  0.066  EO FPR Diff:  0.021\n",
            "\n",
            "=== Reweighing (sex_male) ===\n",
            "Accuracy: 83.65%\n",
            "race_white   | DP Diff:  0.339  DP Ratio:  0.346  EO TPR Diff:  0.163  EO FPR Diff:  0.144\n",
            "sex_male     | DP Diff:  0.140  DP Ratio:  0.666  EO TPR Diff:  0.050  EO FPR Diff:  0.014\n",
            "\n",
            "=== Unawareness ===\n",
            "Accuracy: 83.10%\n",
            "race_white   | DP Diff:  0.258  DP Ratio:  0.472  EO TPR Diff:  0.068  EO FPR Diff:  0.058\n",
            "sex_male     | DP Diff:  0.125  DP Ratio:  0.704  EO TPR Diff:  0.005  EO FPR Diff:  0.018\n",
            "\n",
            "=== EG (eps=0.01) (race_white) ===\n",
            "Accuracy: 77.40%\n",
            "race_white   | DP Diff:  0.022  DP Ratio:  0.939  EO TPR Diff: -0.220  EO FPR Diff: -0.124\n",
            "sex_male     | DP Diff:  0.227  DP Ratio:  0.506  EO TPR Diff:  0.199  EO FPR Diff:  0.110\n",
            "\n",
            "=== EG (eps=0.01) (sex_male) ===\n",
            "Accuracy: 83.70%\n",
            "race_white   | DP Diff:  0.368  DP Ratio:  0.335  EO TPR Diff:  0.176  EO FPR Diff:  0.180\n",
            "sex_male     | DP Diff:  0.007  DP Ratio:  0.981  EO TPR Diff: -0.128  EO FPR Diff: -0.102\n",
            "\n",
            "=== Post-proc (race_white) ===\n",
            "Accuracy: 78.90%\n",
            "race_white   | DP Diff: -0.004  DP Ratio:  1.012  EO TPR Diff: -0.298  EO FPR Diff: -0.145\n",
            "sex_male     | DP Diff:  0.165  DP Ratio:  0.614  EO TPR Diff:  0.094  EO FPR Diff:  0.060\n",
            "\n",
            "=== Post-proc (sex_male) ===\n",
            "Accuracy: 83.05%\n",
            "race_white   | DP Diff:  0.353  DP Ratio:  0.355  EO TPR Diff:  0.160  EO FPR Diff:  0.170\n",
            "sex_male     | DP Diff: -0.004  DP Ratio:  1.010  EO TPR Diff: -0.139  EO FPR Diff: -0.110\n"
          ]
        }
      ],
      "source": [
        "import pandas as pd\n",
        "import numpy as np\n",
        "from sklearn.ensemble import RandomForestClassifier\n",
        "from sklearn.linear_model import LogisticRegression\n",
        "from sklearn.metrics import accuracy_score, confusion_matrix\n",
        "from aif360.datasets import BinaryLabelDataset\n",
        "from aif360.algorithms.preprocessing import Reweighing\n",
        "from fairlearn.reductions import ExponentiatedGradient, DemographicParity\n",
        "from fairlearn.postprocessing import ThresholdOptimizer\n",
        "\n",
        "# 3) Helper metric functions\n",
        "def demographic_parity(sens, y_pred):\n",
        "    sr_p   = np.mean(y_pred[sens==1])\n",
        "    sr_up  = np.mean(y_pred[sens==0])\n",
        "    return sr_p - sr_up, (sr_up/sr_p if sr_p else np.nan)\n",
        "\n",
        "def equalized_odds(sens, y_true, y_pred):\n",
        "    def rates(mask):\n",
        "        tn, fp, fn, tp = confusion_matrix(y_true[mask], y_pred[mask]).ravel()\n",
        "        return tp/(tp+fn), fp/(fp+tn)\n",
        "    p_mask   = sens==1\n",
        "    up_mask  = sens==0\n",
        "    tpr_p, fpr_p = rates(p_mask)\n",
        "    tpr_u, fpr_u = rates(up_mask)\n",
        "    return tpr_p - tpr_u, fpr_p - fpr_u\n",
        "\n",
        "def evaluate(name, y_pred, y_true, sens_dict):\n",
        "    print(f\"\\n=== {name} ===\")\n",
        "    print(f\"Accuracy: {accuracy_score(y_true, y_pred)*100:.2f}%\")\n",
        "    for attr, sens in sens_dict.items():\n",
        "        dp_diff, dp_ratio     = demographic_parity(sens, y_pred)\n",
        "        eo_tpr_diff, eo_fpr_diff = equalized_odds(sens, y_true, y_pred)\n",
        "        print(f\"{attr:12s} | DP Diff: {dp_diff:6.3f}  DP Ratio: {dp_ratio:6.3f}  \"\n",
        "              f\"EO TPR Diff: {eo_tpr_diff:6.3f}  EO FPR Diff: {eo_fpr_diff:6.3f}\")\n",
        "\n",
        "# 4) Load datasets\n",
        "train_url = \"https://raw.githubusercontent.com/CDEIUK/bias-mitigation/refs/heads/master/artifacts/data/recruiting/processed/train.csv\"\n",
        "test_url  = \"https://raw.githubusercontent.com/CDEIUK/bias-mitigation/refs/heads/master/artifacts/data/recruiting/processed/test.csv\"\n",
        "df_train  = pd.read_csv(train_url)\n",
        "df_test   = pd.read_csv(test_url)\n",
        "\n",
        "y_train = df_train['employed_yes'].values\n",
        "y_test  = df_test['employed_yes'].values\n",
        "\n",
        "X_train = df_train.drop(columns=['employed_yes'])\n",
        "X_test  = df_test.drop(columns=['employed_yes'])\n",
        "\n",
        "sensitive = {\n",
        "    \"race_white\": df_test['race_white'].values,\n",
        "    \"sex_male\":   df_test['sex_male'].values\n",
        "}\n",
        "\n",
        "# 5) Baseline\n",
        "clf_base = RandomForestClassifier(random_state=42).fit(X_train, y_train)\n",
        "y_base   = clf_base.predict(X_test)\n",
        "evaluate(\"Baseline RF\", y_base, y_test, sensitive)\n",
        "\n",
        "# 6) Reweighing for each sensitive attribute\n",
        "for attr in sensitive:\n",
        "    # prepare AIF360 dataset\n",
        "    df_aif = df_train.copy()\n",
        "    df_aif['label'] = df_aif['employed_yes']\n",
        "    df_aif[attr]    = df_aif[attr].astype(int)\n",
        "    bld = BinaryLabelDataset(\n",
        "        df=df_aif, \n",
        "        label_names=['label'], \n",
        "        protected_attribute_names=[attr]\n",
        "    )\n",
        "    rw = Reweighing(\n",
        "        privileged_groups=[{attr:1}],\n",
        "        unprivileged_groups=[{attr:0}]\n",
        "    )\n",
        "    btr = rw.fit_transform(bld)\n",
        "    cols = btr.feature_names\n",
        "    Xrw = pd.DataFrame(btr.features, columns=cols).drop(columns=['employed_yes'], errors='ignore').values\n",
        "    yrw = btr.labels.ravel()\n",
        "    wgt = btr.instance_weights\n",
        "    # train & predict\n",
        "    clf = RandomForestClassifier(random_state=42)\n",
        "    clf.fit(Xrw, yrw, sample_weight=wgt)\n",
        "    # align test\n",
        "    Xtest_rw = df_test[cols].drop(columns=['employed_yes'], errors='ignore').values\n",
        "    y_rw = clf.predict(Xtest_rw)\n",
        "    evaluate(f\"Reweighing ({attr})\", y_rw, y_test, sensitive)\n",
        "\n",
        "# 7) Unawareness (drop both attrs simultaneously)\n",
        "drop_cols = ['employed_yes','race_white','sex_male']\n",
        "Xua_train = df_train.drop(columns=drop_cols)\n",
        "Xua_test  = df_test.drop(columns=drop_cols)\n",
        "clf_ua    = RandomForestClassifier(random_state=42).fit(Xua_train, y_train)\n",
        "y_ua      = clf_ua.predict(Xua_test)\n",
        "evaluate(\"Unawareness\", y_ua, y_test, sensitive)\n",
        "\n",
        "# 8) In-processing (EG) for each attr\n",
        "for attr in sensitive:\n",
        "    Xeg_train = df_train.drop(columns=['employed_yes',attr])\n",
        "    Xeg_test  = df_test.drop(columns=['employed_yes',attr])\n",
        "    sg_train  = df_train[attr].values\n",
        "    eg = ExponentiatedGradient(\n",
        "        estimator=LogisticRegression(solver='liblinear'),\n",
        "        constraints=DemographicParity(),\n",
        "        eps=0.01\n",
        "    )\n",
        "    eg.fit(Xeg_train, y_train, sensitive_features=sg_train)\n",
        "    y_eg = eg.predict(Xeg_test)\n",
        "    evaluate(f\"EG (eps=0.01) ({attr})\", y_eg, y_test, sensitive)\n",
        "\n",
        "# 9) Post-processing (ThresholdOptimizer) for each attr\n",
        "for attr in sensitive:\n",
        "    topt = ThresholdOptimizer(\n",
        "        estimator=clf_base,\n",
        "        constraints=\"demographic_parity\",\n",
        "        prefit=True\n",
        "    )\n",
        "    topt.fit(X_test, y_test, sensitive_features=df_test[attr].values)\n",
        "    y_to = topt.predict(X_test, sensitive_features=df_test[attr].values)\n",
        "    evaluate(f\"Post-proc ({attr})\", y_to, y_test, sensitive)\n"
      ]
    },
    {
      "cell_type": "markdown",
      "metadata": {},
      "source": [
        "# Contestability"
      ]
    },
    {
      "cell_type": "code",
      "execution_count": 23,
      "metadata": {},
      "outputs": [],
      "source": [
        "import os\n",
        "import uuid\n",
        "import datetime\n",
        "import json\n",
        "\n",
        "# ——— 1) Paths & Init ———\n",
        "AUDIT_LOG   = \"audit_log.csv\"\n",
        "APPEALS_LOG = \"appeals_log.csv\"\n",
        "\n",
        "def init_logs():\n",
        "    # Create audit log CSV if missing\n",
        "    if not os.path.exists(AUDIT_LOG):\n",
        "        pd.DataFrame(columns=['timestamp','applicant_id','features','prediction']) \\\n",
        "          .to_csv(AUDIT_LOG, index=False)\n",
        "    # Create appeals log CSV if missing\n",
        "    if not os.path.exists(APPEALS_LOG):\n",
        "        pd.DataFrame(columns=[\n",
        "            'appeal_id','timestamp','applicant_id',\n",
        "            'reason','status','reviewer_notes','review_timestamp'\n",
        "        ]).to_csv(APPEALS_LOG, index=False)\n",
        "\n",
        "init_logs()\n",
        "\n",
        "\n",
        "# ——— 2) Contestability Functions ———\n",
        "def log_decision(applicant_id: str, features: dict, prediction: int):\n",
        "    \"\"\"Append decision to audit log.\"\"\"\n",
        "    record = {\n",
        "        \"timestamp\": datetime.datetime.utcnow().isoformat(),\n",
        "        \"applicant_id\": applicant_id,\n",
        "        \"features\": json.dumps(features),\n",
        "        \"prediction\": int(prediction)\n",
        "    }\n",
        "    pd.DataFrame([record]) \\\n",
        "      .to_csv(AUDIT_LOG, mode=\"a\", header=False, index=False)\n",
        "\n",
        "def submit_appeal(applicant_id: str, reason: str):\n",
        "    \"\"\"User calls to contest a rejected decision.\"\"\"\n",
        "    appeal = {\n",
        "        \"appeal_id\": str(uuid.uuid4()),\n",
        "        \"timestamp\": datetime.datetime.utcnow().isoformat(),\n",
        "        \"applicant_id\": applicant_id,\n",
        "        \"reason\": reason,\n",
        "        \"status\": \"OPEN\",\n",
        "        \"reviewer_notes\": \"\",\n",
        "        \"review_timestamp\": \"\"\n",
        "    }\n",
        "    pd.DataFrame([appeal]) \\\n",
        "      .to_csv(APPEALS_LOG, mode=\"a\", header=False, index=False)\n",
        "    return appeal[\"appeal_id\"]\n",
        "\n",
        "def list_open_appeals():\n",
        "    \"\"\"Return DataFrame of OPEN appeals, safe if file/column missing.\"\"\"\n",
        "    if not os.path.exists(APPEALS_LOG):\n",
        "        return pd.DataFrame(columns=['appeal_id','timestamp','applicant_id','reason','status','reviewer_notes','review_timestamp'])\n",
        "    df = pd.read_csv(APPEALS_LOG)\n",
        "    if \"status\" not in df.columns:\n",
        "        return df\n",
        "    return df[df[\"status\"] == \"OPEN\"]\n",
        "\n",
        "def resolve_appeal(appeal_id: str, approved: bool, notes: str):\n",
        "    \"\"\"Approve or reject an appeal and write back to CSV.\"\"\"\n",
        "    df = pd.read_csv(APPEALS_LOG)\n",
        "    idx = df.index[df[\"appeal_id\"] == appeal_id]\n",
        "    if idx.empty:\n",
        "        raise KeyError(f\"No such appeal {appeal_id}\")\n",
        "    i = idx[0]\n",
        "    df.at[i, \"status\"]          = \"APPROVED\" if approved else \"REJECTED\"\n",
        "    df.at[i, \"reviewer_notes\"]   = notes\n",
        "    df.at[i, \"review_timestamp\"] = datetime.datetime.utcnow().isoformat()\n",
        "    df.to_csv(APPEALS_LOG, index=False)\n",
        "    return df.loc[i].to_dict()\n"
      ]
    }
  ],
  "metadata": {
    "colab": {
      "provenance": []
    },
    "kernelspec": {
      "display_name": "DSA201",
      "language": "python",
      "name": "python3"
    },
    "language_info": {
      "codemirror_mode": {
        "name": "ipython",
        "version": 3
      },
      "file_extension": ".py",
      "mimetype": "text/x-python",
      "name": "python",
      "nbconvert_exporter": "python",
      "pygments_lexer": "ipython3",
      "version": "3.12.5"
    }
  },
  "nbformat": 4,
  "nbformat_minor": 0
}
