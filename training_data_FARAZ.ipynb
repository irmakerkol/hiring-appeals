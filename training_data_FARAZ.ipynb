{
 "cells": [
  {
   "cell_type": "markdown",
   "metadata": {
    "id": "w6aAowZY7FEi"
   },
   "source": [
    "https://cdeiuk.github.io/bias-mitigation/"
   ]
  },
  {
   "cell_type": "code",
   "execution_count": 1,
   "metadata": {
    "id": "y973hUFI5DMc"
   },
   "outputs": [],
   "source": [
    "import pandas as pd"
   ]
  },
  {
   "cell_type": "code",
   "execution_count": 2,
   "metadata": {
    "colab": {
     "base_uri": "https://localhost:8080/"
    },
    "id": "7UYDpl8U5cxa",
    "outputId": "0ff4d025-65b5-4f3e-b75f-ed642a1bf811"
   },
   "outputs": [
    {
     "name": "stdout",
     "output_type": "stream",
     "text": [
      "   sex_male  race_white  years_experience  referred      gcse   a_level  \\\n",
      "0         0           1          0.265328         1  0.148817  1.115547   \n",
      "1         0           1         -1.126253         0  0.148817  1.115547   \n",
      "2         1           0         -0.082567         1  0.148817 -1.013021   \n",
      "3         1           1          0.265328         1 -1.065188  0.051263   \n",
      "4         1           1         -0.778358         1 -1.065188  0.051263   \n",
      "\n",
      "   russell_group  honours  years_volunteer    income  it_skills  years_gaps  \\\n",
      "0              1        1         2.139888 -0.740776  -0.712629    1.428393   \n",
      "1              1        1        -0.704762 -0.229262   0.363037   -0.704067   \n",
      "2              0        0        -0.704762 -1.325363  -1.788296   -0.704067   \n",
      "3              0        0        -0.704762  1.414890   0.363037    0.362163   \n",
      "4              0        0         0.717563  0.757230   1.438704   -0.704067   \n",
      "\n",
      "   quality_cv  employed_yes  \n",
      "0   -0.919143             1  \n",
      "1    0.253981             0  \n",
      "2    0.253981             0  \n",
      "3   -0.919143             0  \n",
      "4    1.427106             0  \n"
     ]
    }
   ],
   "source": [
    "url = \"https://raw.githubusercontent.com/CDEIUK/bias-mitigation/refs/heads/master/artifacts/data/recruiting/processed/train.csv\"\n",
    "\n",
    "test = pd.read_csv(url)\n",
    "print(test.head())"
   ]
  },
  {
   "cell_type": "code",
   "execution_count": 3,
   "metadata": {
    "colab": {
     "base_uri": "https://localhost:8080/"
    },
    "id": "zb5Eds3K5prM",
    "outputId": "8d359cd9-1465-4d64-9d00-1e0e7b2ca69d"
   },
   "outputs": [
    {
     "name": "stdout",
     "output_type": "stream",
     "text": [
      "6000\n"
     ]
    }
   ],
   "source": [
    "print(len(test))"
   ]
  },
  {
   "cell_type": "code",
   "execution_count": 4,
   "metadata": {
    "colab": {
     "base_uri": "https://localhost:8080/"
    },
    "id": "CSKHLU3e55Of",
    "outputId": "a57f780e-03eb-4cdf-d721-5702254def02"
   },
   "outputs": [
    {
     "name": "stdout",
     "output_type": "stream",
     "text": [
      "White and employed: 674\n"
     ]
    }
   ],
   "source": [
    "# White and employed\n",
    "whiteEmployed_df = test[(test['race_white'] == 0) & (test['employed_yes'] == 1)]\n",
    "\n",
    "whiteEmployed_df_count = len(whiteEmployed_df)\n",
    "\n",
    "print(f\"White and employed: {whiteEmployed_df_count}\")"
   ]
  },
  {
   "cell_type": "code",
   "execution_count": 5,
   "metadata": {
    "colab": {
     "base_uri": "https://localhost:8080/"
    },
    "id": "R6RitdHq8Yio",
    "outputId": "ad9fae16-363d-4330-9182-c6044ebbc6d0"
   },
   "outputs": [
    {
     "name": "stdout",
     "output_type": "stream",
     "text": [
      "Colored and employed: 674\n"
     ]
    }
   ],
   "source": [
    "# Colored and employed\n",
    "whiteEmployed_df = test[(test['race_white'] == 0) & (test['employed_yes'] == 1)]\n",
    "\n",
    "whiteEmployed_df_count = len(whiteEmployed_df)\n",
    "\n",
    "print(f\"Colored and employed: {whiteEmployed_df_count}\")"
   ]
  },
  {
   "cell_type": "code",
   "execution_count": 6,
   "metadata": {
    "colab": {
     "base_uri": "https://localhost:8080/"
    },
    "id": "N7fU-ajMWm3Q",
    "outputId": "6695c258-7dd4-4404-eb43-c96a0f115164"
   },
   "outputs": [
    {
     "name": "stdout",
     "output_type": "stream",
     "text": [
      "Male and employed: 1401\n"
     ]
    }
   ],
   "source": [
    "# Male ve employed\n",
    "whiteEmployed_df = test[(test['sex_male'] == 1) & (test['employed_yes'] == 1)]\n",
    "\n",
    "whiteEmployed_df_count = len(whiteEmployed_df)\n",
    "\n",
    "print(f\"Male and employed: {whiteEmployed_df_count}\")"
   ]
  },
  {
   "cell_type": "code",
   "execution_count": 7,
   "metadata": {
    "colab": {
     "base_uri": "https://localhost:8080/"
    },
    "id": "nGqWheeKWp18",
    "outputId": "35235d05-d615-4048-865c-216f9fafab9d"
   },
   "outputs": [
    {
     "name": "stdout",
     "output_type": "stream",
     "text": [
      "Female and employed: 884\n"
     ]
    }
   ],
   "source": [
    "# Female ve employed\n",
    "whiteEmployed_df = test[(test['sex_male'] == 0) & (test['employed_yes'] == 1)]\n",
    "\n",
    "whiteEmployed_df_count = len(whiteEmployed_df)\n",
    "\n",
    "print(f\"Female and employed: {whiteEmployed_df_count}\")"
   ]
  },
  {
   "cell_type": "markdown",
   "metadata": {
    "id": "_v1mOiSK6Q_V"
   },
   "source": [
    "race ve genderların eşit olması lazım\n",
    "datasette eşit AMA\n",
    "white olduğunun imply eden ve black olduğunu imply eden özelliklerin de hiring kararında eşit olması lazım\n",
    "bunu yapıp yapmadaıüını analiz etmemiz lazım"
   ]
  },
  {
   "cell_type": "markdown",
   "metadata": {
    "id": "4TDCG86_64me"
   },
   "source": [
    "VE demograohic parity"
   ]
  },
  {
   "cell_type": "code",
   "execution_count": 8,
   "metadata": {
    "colab": {
     "base_uri": "https://localhost:8080/"
    },
    "id": "7h2IxN6l63MO",
    "outputId": "c66fc8e6-7945-44b8-9025-adf9e8e9a608"
   },
   "outputs": [
    {
     "name": "stdout",
     "output_type": "stream",
     "text": [
      "          employed_yes\n",
      "sex_male              \n",
      "0             0.295159\n",
      "1             0.466223\n"
     ]
    }
   ],
   "source": [
    "employed_by_sex = test[[\"sex_male\", \"employed_yes\"]].groupby(\"sex_male\").mean()\n",
    "print(employed_by_sex)\n"
   ]
  },
  {
   "cell_type": "markdown",
   "metadata": {
    "id": "gZEqzJ4p9Dlo"
   },
   "source": [
    "Karar aşamasında female karakteristik insanları reject etme olasılığı daha yüksek"
   ]
  },
  {
   "cell_type": "code",
   "execution_count": 9,
   "metadata": {
    "colab": {
     "base_uri": "https://localhost:8080/"
    },
    "id": "w_2YULNd7oNC",
    "outputId": "21d0b671-e66a-4205-800a-94d539adc8be"
   },
   "outputs": [
    {
     "name": "stdout",
     "output_type": "stream",
     "text": [
      "            employed_yes\n",
      "race_white              \n",
      "0               0.230743\n",
      "1               0.523222\n"
     ]
    }
   ],
   "source": [
    "employed_by_race = test[[\"race_white\", \"employed_yes\"]].groupby(\"race_white\").mean()\n",
    "print(employed_by_race)\n"
   ]
  },
  {
   "cell_type": "markdown",
   "metadata": {
    "id": "OC16yqZo9SeO"
   },
   "source": [
    "Acceptad'larda eşit olsa bile rejectadlarda beyaz olmayanlar daha çok reject edilebilir -> beyaz karakteristikleri olmayanların kabul edilme olasılığı daha düşük olabilir"
   ]
  },
  {
   "cell_type": "code",
   "execution_count": 10,
   "metadata": {
    "colab": {
     "base_uri": "https://localhost:8080/"
    },
    "id": "34KnzYZO93pM",
    "outputId": "8285503e-d75b-4ade-d873-6ac000ad72ec"
   },
   "outputs": [
    {
     "name": "stdout",
     "output_type": "stream",
     "text": [
      "            quality_cv\n",
      "race_white            \n",
      "0             0.006184\n",
      "1            -0.005866\n"
     ]
    }
   ],
   "source": [
    "cv_by_race = test[[\"race_white\", \"quality_cv\"]].groupby(\"race_white\").mean()\n",
    "print(cv_by_race)\n"
   ]
  },
  {
   "cell_type": "markdown",
   "metadata": {
    "id": "U-CaEV-l9_wz"
   },
   "source": [
    "racial disparity yok -> racist bastards"
   ]
  },
  {
   "cell_type": "code",
   "execution_count": 11,
   "metadata": {
    "colab": {
     "base_uri": "https://localhost:8080/"
    },
    "id": "SCwW2tGe-HBi",
    "outputId": "064c79e8-0f34-4002-b3a9-bbec0f225954"
   },
   "outputs": [
    {
     "name": "stdout",
     "output_type": "stream",
     "text": [
      "          quality_cv\n",
      "sex_male            \n",
      "0           0.009956\n",
      "1          -0.009923\n"
     ]
    }
   ],
   "source": [
    "cv_by_sex = test[[\"sex_male\", \"quality_cv\"]].groupby(\"sex_male\").mean()\n",
    "print(cv_by_sex)\n"
   ]
  },
  {
   "cell_type": "markdown",
   "metadata": {
    "id": "-zlcL3OD-QjC"
   },
   "source": [
    "sexual disparity yok"
   ]
  },
  {
   "cell_type": "code",
   "execution_count": 12,
   "metadata": {
    "colab": {
     "base_uri": "https://localhost:8080/"
    },
    "id": "JG6EL1n8_xkY",
    "outputId": "4d4d2e94-1309-4e16-b559-e30ca84cd45d"
   },
   "outputs": [
    {
     "name": "stdout",
     "output_type": "stream",
     "text": [
      "Requirement already satisfied: fairlearn in c:\\users\\faraz\\anaconda3\\lib\\site-packages (0.12.0)\n",
      "Requirement already satisfied: numpy>=1.24.4 in c:\\users\\faraz\\anaconda3\\lib\\site-packages (from fairlearn) (1.26.4)\n",
      "Requirement already satisfied: pandas>=2.0.3 in c:\\users\\faraz\\anaconda3\\lib\\site-packages (from fairlearn) (2.1.4)\n",
      "Requirement already satisfied: scikit-learn>=1.2.1 in c:\\users\\faraz\\anaconda3\\lib\\site-packages (from fairlearn) (1.3.0)\n",
      "Requirement already satisfied: scipy>=1.9.3 in c:\\users\\faraz\\anaconda3\\lib\\site-packages (from fairlearn) (1.12.0)\n",
      "Requirement already satisfied: python-dateutil>=2.8.2 in c:\\users\\faraz\\anaconda3\\lib\\site-packages (from pandas>=2.0.3->fairlearn) (2.8.2)\n",
      "Requirement already satisfied: pytz>=2020.1 in c:\\users\\faraz\\anaconda3\\lib\\site-packages (from pandas>=2.0.3->fairlearn) (2023.3.post1)\n",
      "Requirement already satisfied: tzdata>=2022.1 in c:\\users\\faraz\\anaconda3\\lib\\site-packages (from pandas>=2.0.3->fairlearn) (2023.3)\n",
      "Requirement already satisfied: joblib>=1.1.1 in c:\\users\\faraz\\anaconda3\\lib\\site-packages (from scikit-learn>=1.2.1->fairlearn) (1.2.0)\n",
      "Requirement already satisfied: threadpoolctl>=2.0.0 in c:\\users\\faraz\\anaconda3\\lib\\site-packages (from scikit-learn>=1.2.1->fairlearn) (2.2.0)\n",
      "Requirement already satisfied: six>=1.5 in c:\\users\\faraz\\anaconda3\\lib\\site-packages (from python-dateutil>=2.8.2->pandas>=2.0.3->fairlearn) (1.16.0)\n"
     ]
    },
    {
     "name": "stderr",
     "output_type": "stream",
     "text": [
      "WARNING: Ignoring invalid distribution -atplotlib (c:\\users\\faraz\\anaconda3\\lib\\site-packages)\n",
      "WARNING: Ignoring invalid distribution -atplotlib (c:\\users\\faraz\\anaconda3\\lib\\site-packages)\n"
     ]
    }
   ],
   "source": [
    "from pathlib import Path\n",
    "import joblib\n",
    "\n",
    "!pip install fairlearn\n",
    "\n",
    "from fairlearn.metrics import (\n",
    "    demographic_parity_difference,\n",
    "    demographic_parity_ratio,\n",
    "    equalized_odds_difference,\n",
    "    equalized_odds_ratio,\n",
    ")"
   ]
  },
  {
   "cell_type": "code",
   "execution_count": 13,
   "metadata": {
    "colab": {
     "base_uri": "https://localhost:8080/"
    },
    "id": "uCqWjJsZ_dpP",
    "outputId": "b74c611a-b248-498f-bc65-70c5dcf8c56f"
   },
   "outputs": [
    {
     "name": "stderr",
     "output_type": "stream",
     "text": [
      "C:\\Users\\Faraz\\anaconda3\\lib\\site-packages\\sklearn\\base.py:347: InconsistentVersionWarning: Trying to unpickle estimator LabelBinarizer from version 0.23.1 when using version 1.3.0. This might lead to breaking code or invalid results. Use at your own risk. For more info please refer to:\n",
      "https://scikit-learn.org/stable/model_persistence.html#security-maintainability-limitations\n",
      "  warnings.warn(\n",
      "C:\\Users\\Faraz\\anaconda3\\lib\\site-packages\\sklearn\\base.py:347: InconsistentVersionWarning: Trying to unpickle estimator MLPClassifier from version 0.23.1 when using version 1.3.0. This might lead to breaking code or invalid results. Use at your own risk. For more info please refer to:\n",
      "https://scikit-learn.org/stable/model_persistence.html#security-maintainability-limitations\n",
      "  warnings.warn(\n"
     ]
    }
   ],
   "source": [
    "test_url = \"https://raw.githubusercontent.com/CDEIUK/bias-mitigation/refs/heads/master/artifacts/data/recruiting/processed/test.csv\"\n",
    "test = pd.read_csv(test_url)\n",
    "test_raw_url = \"https://raw.githubusercontent.com/CDEIUK/bias-mitigation/refs/heads/master/artifacts/data/recruiting/raw/test.csv\"\n",
    "test_raw = pd.read_csv(test_raw_url)\n",
    "\n",
    "model = joblib.load(\"baseline.pkl\")"
   ]
  },
  {
   "cell_type": "code",
   "execution_count": 14,
   "metadata": {
    "colab": {
     "base_uri": "https://localhost:8080/"
    },
    "id": "-LHA-txQCQ1H",
    "outputId": "9988a29d-e296-4878-8ca2-c1300507eb81"
   },
   "outputs": [
    {
     "name": "stdout",
     "output_type": "stream",
     "text": [
      "Test accuracy: 86.15%\n"
     ]
    },
    {
     "name": "stderr",
     "output_type": "stream",
     "text": [
      "C:\\Users\\Faraz\\anaconda3\\lib\\site-packages\\sklearn\\base.py:457: UserWarning: X has feature names, but MLPClassifier was fitted without feature names\n",
      "  warnings.warn(\n",
      "C:\\Users\\Faraz\\anaconda3\\lib\\site-packages\\sklearn\\base.py:457: UserWarning: X has feature names, but MLPClassifier was fitted without feature names\n",
      "  warnings.warn(\n"
     ]
    }
   ],
   "source": [
    "test_prob = model.predict_proba(test.drop(columns=\"employed_yes\"))[:, 1]\n",
    "test_pred = test_prob > 0.5\n",
    "test_accuracy = model.score(\n",
    "    test.drop(columns=\"employed_yes\"), test.employed_yes\n",
    ")\n",
    "print(f\"Test accuracy: {test_accuracy * 100:.2f}%\")"
   ]
  },
  {
   "cell_type": "code",
   "execution_count": 15,
   "metadata": {
    "colab": {
     "base_uri": "https://localhost:8080/"
    },
    "id": "xbCXNUo-_DD8",
    "outputId": "e950b1fa-49c9-4f13-da68-41d83b269bc1"
   },
   "outputs": [
    {
     "name": "stdout",
     "output_type": "stream",
     "text": [
      "Demographic parity difference: 0.173\n",
      "Demographic parity ratio: 0.590\n"
     ]
    }
   ],
   "source": [
    "dpd = demographic_parity_difference(\n",
    "    test.employed_yes, test_pred, sensitive_features=test.sex_male,\n",
    ")\n",
    "dpr = demographic_parity_ratio(\n",
    "    test.employed_yes, test_pred, sensitive_features=test.sex_male,\n",
    ")\n",
    "\n",
    "print(f\"Demographic parity difference: {dpd:.3f}\")\n",
    "print(f\"Demographic parity ratio: {dpr:.3f}\")"
   ]
  },
  {
   "cell_type": "markdown",
   "metadata": {
    "id": "hSupBFznCq_z"
   },
   "source": [
    "Ratio 0.5' yakın çıktı, güzel. 0.5 olmasını istiyoruz, tam eşit olsun. Sexist olma olasılığı daha az"
   ]
  },
  {
   "cell_type": "code",
   "execution_count": 16,
   "metadata": {
    "colab": {
     "base_uri": "https://localhost:8080/"
    },
    "id": "Z4EbHmu1Cdax",
    "outputId": "e655ca73-3d48-4473-d9e6-4a7b933ce992"
   },
   "outputs": [
    {
     "name": "stdout",
     "output_type": "stream",
     "text": [
      "Demographic parity difference: 0.327\n",
      "Demographic parity ratio: 0.345\n"
     ]
    }
   ],
   "source": [
    "dpd = demographic_parity_difference(\n",
    "    test.employed_yes, test_pred, sensitive_features=test.race_white,\n",
    ")\n",
    "dpr = demographic_parity_ratio(\n",
    "    test.employed_yes, test_pred, sensitive_features=test.race_white,\n",
    ")\n",
    "\n",
    "print(f\"Demographic parity difference: {dpd:.3f}\")\n",
    "print(f\"Demographic parity ratio: {dpr:.3f}\")"
   ]
  },
  {
   "cell_type": "markdown",
   "metadata": {
    "id": "AvqO6HakDFGG"
   },
   "source": [
    "Race'de ration yüksek. Yani racistler. 0.5'e yaklaştırmak istiyoruz. (Include DEI programs hehe)"
   ]
  },
  {
   "cell_type": "code",
   "execution_count": 17,
   "metadata": {
    "colab": {
     "base_uri": "https://localhost:8080/"
    },
    "id": "AeP6Z_caDfSH",
    "outputId": "265d71e3-f637-4485-a607-64956b292bab"
   },
   "outputs": [
    {
     "name": "stdout",
     "output_type": "stream",
     "text": [
      "Equalised odds difference: 0.088\n",
      "Equalised odds ratio: 0.650\n"
     ]
    }
   ],
   "source": [
    "eod = equalized_odds_difference(\n",
    "    test.employed_yes, test_pred, sensitive_features=test.sex_male,\n",
    ")\n",
    "eor = equalized_odds_ratio(\n",
    "    test.employed_yes, test_pred, sensitive_features=test.sex_male,\n",
    ")\n",
    "\n",
    "print(f\"Equalised odds difference: {eod:.3f}\")\n",
    "print(f\"Equalised odds ratio: {eor:.3f}\")"
   ]
  },
  {
   "cell_type": "markdown",
   "metadata": {
    "id": "UbxYA9UcDhol"
   },
   "source": [
    "Difference küçücük."
   ]
  },
  {
   "cell_type": "code",
   "execution_count": 18,
   "metadata": {
    "colab": {
     "base_uri": "https://localhost:8080/"
    },
    "id": "ZuS856KXD5JX",
    "outputId": "d689c02c-83c9-4748-9c5d-2fa8f8d9df03"
   },
   "outputs": [
    {
     "name": "stdout",
     "output_type": "stream",
     "text": [
      "Equalised odds difference: 0.133\n",
      "Equalised odds ratio: 0.246\n"
     ]
    }
   ],
   "source": [
    "eod = equalized_odds_difference(\n",
    "    test.employed_yes, test_pred, sensitive_features=test.race_white,\n",
    ")\n",
    "eor = equalized_odds_ratio(\n",
    "    test.employed_yes, test_pred, sensitive_features=test.race_white,\n",
    ")\n",
    "\n",
    "print(f\"Equalised odds difference: {eod:.3f}\")\n",
    "print(f\"Equalised odds ratio: {eor:.3f}\")"
   ]
  },
  {
   "cell_type": "markdown",
   "metadata": {
    "id": "1Gt3Uv0bD_ul"
   },
   "source": [
    "Bunda difference daha yüksek. Rac,st rather than sexist."
   ]
  },
  {
   "cell_type": "code",
   "execution_count": 19,
   "metadata": {
    "colab": {
     "base_uri": "https://localhost:8080/",
     "height": 564
    },
    "id": "KX2HDziPFNfE",
    "outputId": "85e549ba-67d9-424c-aff7-2342d7340385"
   },
   "outputs": [
    {
     "data": {
      "image/png": "[encoded data removed]",
      "text/plain": [
       "<Figure size 800x600 with 2 Axes>"
      ]
     },
     "metadata": {},
     "output_type": "display_data"
    }
   ],
   "source": [
    "import matplotlib.pyplot as plt\n",
    "import seaborn as sns\n",
    "from sklearn.metrics import confusion_matrix\n",
    "import pandas as pd\n",
    "\n",
    "# Assuming 'test' DataFrame and 'test_pred' predictions are already defined\n",
    "\n",
    "# Replace 'your_column_name' with the actual column name you want to use\n",
    "column_of_interest = \"sex_male\"\n",
    "\n",
    "# Ensure the column exists in your DataFrame\n",
    "if column_of_interest in test.columns:\n",
    "    # Create the confusion matrix\n",
    "    cm = confusion_matrix(test[column_of_interest], test_pred)\n",
    "\n",
    "    # Define labels for the plot (replace with your actual label names)\n",
    "    labels = ['Class 0', 'Class 1'] # Replace with meaningful labels for your column\n",
    "\n",
    "    # Create a heatmap for the confusion matrix\n",
    "    plt.figure(figsize=(8, 6))\n",
    "    sns.heatmap(cm, annot=True, fmt='d', cmap='Blues', xticklabels=labels, yticklabels=labels)\n",
    "    plt.xlabel('Predicted Label')\n",
    "    plt.ylabel('True Label')\n",
    "    plt.title(f'Confusion Matrix for {column_of_interest}')\n",
    "    plt.show()\n"
   ]
  },
  {
   "cell_type": "code",
   "execution_count": 20,
   "metadata": {
    "colab": {
     "base_uri": "https://localhost:8080/",
     "height": 564
    },
    "id": "8iIPNOpNFnU-",
    "outputId": "6329cec4-90e1-43d8-c712-3291ae3f2003"
   },
   "outputs": [
    {
     "data": {
      "image/png": "[encoded data removed]",
      "text/plain": [
       "<Figure size 800x600 with 2 Axes>"
      ]
     },
     "metadata": {},
     "output_type": "display_data"
    }
   ],
   "source": [
    "import matplotlib.pyplot as plt\n",
    "import seaborn as sns\n",
    "from sklearn.metrics import confusion_matrix\n",
    "import pandas as pd\n",
    "\n",
    "\n",
    "column_of_interest = \"race_white\"\n",
    "\n",
    "# Ensure the column exists in your DataFrame\n",
    "if column_of_interest in test.columns:\n",
    "    # Create the confusion matrix\n",
    "    cm = confusion_matrix(test[column_of_interest], test_pred)\n",
    "\n",
    "    # Define labels for the plot (replace with your actual label names)\n",
    "    labels = ['Class 0', 'Class 1'] # Replace with meaningful labels for your column\n",
    "\n",
    "    # Create a heatmap for the confusion matrix\n",
    "    plt.figure(figsize=(8, 6))\n",
    "    sns.heatmap(cm, annot=True, fmt='d', cmap='Blues', xticklabels=labels, yticklabels=labels)\n",
    "    plt.xlabel('Predicted Label')\n",
    "    plt.ylabel('True Label')\n",
    "    plt.title(f'Confusion Matrix for {column_of_interest}')\n",
    "    plt.show()\n"
   ]
  },
  {
   "cell_type": "markdown",
   "metadata": {
    "id": "cqXfcbXSFuNK"
   },
   "source": [
    "is racist"
   ]
  },
  {
   "cell_type": "markdown",
   "metadata": {
    "id": "agjT5ud4F4I8"
   },
   "source": [
    "Modelin accuracy .8in üstünde olsa da protected karakteristikler var hire edilen insanlarda. Bunlardan sex herhangib ir ciddi male-female farklılığı göstermiyor. Bu yüzden bunun zerine train edilecek harhangi bir model sexism açısında ciddi bir sorun yaratmayacaktır diye tahmin ediyoruz.\n",
    "\n",
    "On the other hand, beyazlar ve diğer ırklar arasında demografik farklılık var. Özellikle hire edilip edilmeme konusunda. Modeli race göz önünde bulundurmadan train edilse bile bu insanların karakteristikleri diğer featurlar arasnda encoded olabilir ve bu sebeple racism fark edilmeden yapılablir.\n",
    "\n",
    "2 protected karakteristikten de bahsettik. Done. Gelince bunlara çözüm bulmamız lazım. Başka bir model train yarınlü ekip edecek :)"
   ]
  },
  {
   "cell_type": "code",
   "execution_count": 21,
   "metadata": {
    "colab": {
     "base_uri": "https://localhost:8080/"
    },
    "id": "Pf5lg-e5b9kT",
    "outputId": "6a5801ed-08f4-473d-c3ef-2bad188f1859"
   },
   "outputs": [
    {
     "name": "stdout",
     "output_type": "stream",
     "text": [
      "Collecting aif360\n",
      "  Downloading aif360-0.6.1-py3-none-any.whl.metadata (5.0 kB)\n",
      "Requirement already satisfied: numpy>=1.16 in c:\\users\\faraz\\anaconda3\\lib\\site-packages (from aif360) (1.26.4)\n",
      "Requirement already satisfied: scipy>=1.2.0 in c:\\users\\faraz\\anaconda3\\lib\\site-packages (from aif360) (1.12.0)\n",
      "Requirement already satisfied: pandas>=0.24.0 in c:\\users\\faraz\\anaconda3\\lib\\site-packages (from aif360) (2.1.4)\n",
      "Requirement already satisfied: scikit-learn>=1.0 in c:\\users\\faraz\\anaconda3\\lib\\site-packages (from aif360) (1.3.0)\n",
      "Requirement already satisfied: matplotlib in c:\\users\\faraz\\appdata\\roaming\\python\\python310\\site-packages (from aif360) (3.8.3)\n",
      "Requirement already satisfied: python-dateutil>=2.8.2 in c:\\users\\faraz\\anaconda3\\lib\\site-packages (from pandas>=0.24.0->aif360) (2.8.2)\n",
      "Requirement already satisfied: pytz>=2020.1 in c:\\users\\faraz\\anaconda3\\lib\\site-packages (from pandas>=0.24.0->aif360) (2023.3.post1)\n",
      "Requirement already satisfied: tzdata>=2022.1 in c:\\users\\faraz\\anaconda3\\lib\\site-packages (from pandas>=0.24.0->aif360) (2023.3)\n",
      "Requirement already satisfied: joblib>=1.1.1 in c:\\users\\faraz\\anaconda3\\lib\\site-packages (from scikit-learn>=1.0->aif360) (1.2.0)\n",
      "Requirement already satisfied: threadpoolctl>=2.0.0 in c:\\users\\faraz\\anaconda3\\lib\\site-packages (from scikit-learn>=1.0->aif360) (2.2.0)\n",
      "Requirement already satisfied: contourpy>=1.0.1 in c:\\users\\faraz\\anaconda3\\lib\\site-packages (from matplotlib->aif360) (1.2.0)\n",
      "Requirement already satisfied: cycler>=0.10 in c:\\users\\faraz\\anaconda3\\lib\\site-packages (from matplotlib->aif360) (0.11.0)\n",
      "Requirement already satisfied: fonttools>=4.22.0 in c:\\users\\faraz\\anaconda3\\lib\\site-packages (from matplotlib->aif360) (4.25.0)\n",
      "Requirement already satisfied: kiwisolver>=1.3.1 in c:\\users\\faraz\\anaconda3\\lib\\site-packages (from matplotlib->aif360) (1.4.4)\n",
      "Requirement already satisfied: packaging>=20.0 in c:\\users\\faraz\\anaconda3\\lib\\site-packages (from matplotlib->aif360) (23.2)\n",
      "Requirement already satisfied: pillow>=8 in c:\\users\\faraz\\anaconda3\\lib\\site-packages (from matplotlib->aif360) (10.2.0)\n",
      "Requirement already satisfied: pyparsing>=2.3.1 in c:\\users\\faraz\\anaconda3\\lib\\site-packages (from matplotlib->aif360) (3.0.9)\n",
      "Requirement already satisfied: six>=1.5 in c:\\users\\faraz\\anaconda3\\lib\\site-packages (from python-dateutil>=2.8.2->pandas>=0.24.0->aif360) (1.16.0)\n",
      "Downloading aif360-0.6.1-py3-none-any.whl (259 kB)\n",
      "   ---------------------------------------- 0.0/259.7 kB ? eta -:--:--\n",
      "   ---------------------------------------- 0.0/259.7 kB ? eta -:--:--\n",
      "   ---------------------------------------- 0.0/259.7 kB ? eta -:--:--\n",
      "   ------ --------------------------------- 41.0/259.7 kB 1.9 MB/s eta 0:00:01\n",
      "   ------------ --------------------------- 81.9/259.7 kB 1.1 MB/s eta 0:00:01\n",
      "   ---------------- --------------------- 112.6/259.7 kB 939.4 kB/s eta 0:00:01\n",
      "   -------------------- ----------------- 143.4/259.7 kB 853.3 kB/s eta 0:00:01\n",
      "   ---------------------------- --------- 194.6/259.7 kB 908.0 kB/s eta 0:00:01\n",
      "   -------------------------------- ----- 225.3/259.7 kB 860.2 kB/s eta 0:00:01\n",
      "   -------------------------------------- 259.7/259.7 kB 887.8 kB/s eta 0:00:00\n",
      "Installing collected packages: aif360\n",
      "Successfully installed aif360-0.6.1\n"
     ]
    },
    {
     "name": "stderr",
     "output_type": "stream",
     "text": [
      "WARNING: Ignoring invalid distribution -atplotlib (c:\\users\\faraz\\anaconda3\\lib\\site-packages)\n",
      "WARNING: Ignoring invalid distribution -atplotlib (c:\\users\\faraz\\anaconda3\\lib\\site-packages)\n",
      "WARNING:root:No module named 'tensorflow': AdversarialDebiasing will be unavailable. To install, run:\n",
      "pip install 'aif360[AdversarialDebiasing]'\n",
      "WARNING:root:No module named 'tensorflow': AdversarialDebiasing will be unavailable. To install, run:\n",
      "pip install 'aif360[AdversarialDebiasing]'\n",
      "WARNING:root:No module named 'inFairness': SenSeI and SenSR will be unavailable. To install, run:\n",
      "pip install 'aif360[inFairness]'\n"
     ]
    }
   ],
   "source": [
    "# 1) AIF360’u yükleyin (bir kez çalıştırın)\n",
    "!pip install aif360\n",
    "\n",
    "# 2) Gerekli kütüphaneleri içe aktarın\n",
    "import pandas as pd\n",
    "from sklearn.preprocessing import LabelEncoder\n",
    "from aif360.datasets import BinaryLabelDataset\n",
    "from aif360.algorithms.preprocessing import Reweighing\n",
    "\n",
    "# 3) Veriyi yükleyin\n",
    "url = \"https://raw.githubusercontent.com/CDEIUK/bias-mitigation/refs/heads/master/artifacts/data/recruiting/processed/train.csv\"\n",
    "df = pd.read_csv(url)\n",
    "\n",
    "# 4) AIF360 formatına hazırlık\n",
    "df_aif = df.copy()\n",
    "le = LabelEncoder()\n",
    "df_aif['label'] = le.fit_transform(df_aif['employed_yes'])   # Etiketi ikili hale getir\n",
    "df_aif['race_white'] = df_aif['race_white'].astype(int)      # Korunan özniteliği int yap\n",
    "\n",
    "# 5) AIF360 dataset oluştur\n",
    "dataset = BinaryLabelDataset(\n",
    "    df=df_aif,\n",
    "    label_names=['label'],\n",
    "    protected_attribute_names=['race_white']\n",
    ")\n",
    "\n",
    "# 6) Reweighing uygula\n",
    "RW = Reweighing(\n",
    "    privileged_groups=[{'race_white': 1}],\n",
    "    unprivileged_groups=[{'race_white': 0}]\n",
    ")\n",
    "dataset_transf = RW.fit_transform(dataset)\n",
    "\n",
    "# 7) Reweighed veriyi çıkar\n",
    "X_rw          = dataset_transf.features            # Öznitelikler dizisi\n",
    "y_rw          = dataset_transf.labels.ravel()      # Etiket dizisi\n",
    "sample_weight = dataset_transf.instance_weights    # Her örnek için ağırlık\n",
    "\n",
    "# Artık X_rw, y_rw ve sample_weight ile modelini eğitebilirsin.\n"
   ]
  },
  {
   "cell_type": "code",
   "execution_count": 22,
   "metadata": {
    "colab": {
     "base_uri": "https://localhost:8080/"
    },
    "id": "YOane9wwaUia",
    "outputId": "e8944a80-9662-4ea0-bcc3-9f84e1c2712f"
   },
   "outputs": [
    {
     "name": "stdout",
     "output_type": "stream",
     "text": [
      "Reweighted model saved to reweighted_model.pkl\n",
      "Reweighed Model Accuracy: 84.25%\n",
      "\n",
      "Demographic Parity (race_white):\n",
      "  Diff : 0.313\n",
      "  Ratio: 0.382\n",
      "\n",
      "Equalized Odds (race_white):\n",
      "  TPR diff: 0.124\n",
      "  FPR diff: 0.112\n"
     ]
    },
    {
     "name": "stderr",
     "output_type": "stream",
     "text": [
      "C:\\Users\\Faraz\\anaconda3\\lib\\site-packages\\sklearn\\base.py:457: UserWarning: X has feature names, but RandomForestClassifier was fitted without feature names\n",
      "  warnings.warn(\n"
     ]
    }
   ],
   "source": [
    "\n",
    "from sklearn.ensemble import RandomForestClassifier\n",
    "from sklearn.metrics import accuracy_score, confusion_matrix\n",
    "\n",
    "# 1) AIF360'tan gelen özellik isimlerini alın\n",
    "feature_names = dataset_transf.feature_names\n",
    "\n",
    "# 2) DataFrame’e çevirip 'employed_yes'i atın\n",
    "X_rw_df = pd.DataFrame(dataset_transf.features, columns=feature_names)\n",
    "if 'employed_yes' in X_rw_df.columns:\n",
    "    X_rw_df = X_rw_df.drop(columns=['employed_yes'])\n",
    "\n",
    "# 3) numpy dizilerine dönüştürün\n",
    "X_rw = X_rw_df.values\n",
    "y_rw = dataset_transf.labels.ravel()\n",
    "sample_weight = dataset_transf.instance_weights\n",
    "\n",
    "# 4) Test setini aynı sütun sırasına göre hazırlayın\n",
    "test_url = \"https://raw.githubusercontent.com/CDEIUK/bias-mitigation/refs/heads/master/artifacts/data/recruiting/processed/test.csv\"\n",
    "test = pd.read_csv(test_url)\n",
    "X_test = test.drop(columns=['employed_yes'])\n",
    "# Sütun sırasını X_rw_df ile eşitleyin\n",
    "X_test = X_test[X_rw_df.columns]\n",
    "y_test = test['employed_yes'].values\n",
    "\n",
    "# 5) Modeli eğitin ve tahmin yapın\n",
    "clf_rw = RandomForestClassifier(random_state=42)\n",
    "clf_rw.fit(X_rw, y_rw, sample_weight=sample_weight)\n",
    "y_pred = clf_rw.predict(X_test)\n",
    "\n",
    "import joblib\n",
    "joblib.dump(clf_rw, \"reweighted_model.pkl\")\n",
    "print(\"Reweighted model saved to reweighted_model.pkl\")\n",
    "\n",
    "# 6) Accuracy\n",
    "acc = accuracy_score(y_test, y_pred)\n",
    "print(f\"Reweighed Model Accuracy: {acc * 100:.2f}%\")\n",
    "\n",
    "# 7) Demographic Parity (race_white)\n",
    "sr_white = y_pred[test['race_white']==1].mean()\n",
    "sr_non   = y_pred[test['race_white']==0].mean()\n",
    "dpd = sr_white - sr_non\n",
    "dpr = sr_non / sr_white\n",
    "print(\"\\nDemographic Parity (race_white):\")\n",
    "print(f\"  Diff : {dpd:.3f}\")\n",
    "print(f\"  Ratio: {dpr:.3f}\")\n",
    "\n",
    "# 8) Equalized Odds (race_white)\n",
    "def tpr_fpr(y_true, y_pred, mask):\n",
    "    tn, fp, fn, tp = confusion_matrix(y_true[mask], y_pred[mask]).ravel()\n",
    "    return tp/(tp+fn), fp/(fp+tn)\n",
    "\n",
    "mask_w  = test['race_white']==1\n",
    "mask_nw = test['race_white']==0\n",
    "tpr_w, fpr_w   = tpr_fpr(y_test, y_pred, mask_w)\n",
    "tpr_nw, fpr_nw = tpr_fpr(y_test, y_pred, mask_nw)\n",
    "print(\"\\nEqualized Odds (race_white):\")\n",
    "print(f\"  TPR diff: {tpr_w - tpr_nw:.3f}\")\n",
    "print(f\"  FPR diff: {fpr_w - fpr_nw:.3f}\")\n"
   ]
  },
  {
   "cell_type": "markdown",
   "metadata": {},
   "source": [
    "# Explainability"
   ]
  },
  {
   "cell_type": "code",
   "execution_count": 25,
   "metadata": {
    "colab": {
     "base_uri": "https://localhost:8080/"
    },
    "id": "EXHNcXGfh_Nl",
    "outputId": "8e47fab8-f120-4e66-b063-e1c74b09ed95"
   },
   "outputs": [
    {
     "name": "stdout",
     "output_type": "stream",
     "text": [
      "Local LIME explanation (as list):\n",
      "  years_experience      +0.240\n",
      "  referred              +0.086\n",
      "  gcse                  +0.065\n",
      "  a_level               +0.058\n",
      "  race_white            +0.034\n"
     ]
    }
   ],
   "source": [
    "# 1. Imports\n",
    "import joblib\n",
    "from lime.lime_tabular import LimeTabularExplainer\n",
    "\n",
    "# 2. Reload your model\n",
    "clf_rw = joblib.load(\"reweighted_model.pkl\")\n",
    "\n",
    "# 3. Build a LIME explainer on your processed training set\n",
    "explainer = LimeTabularExplainer(\n",
    "    training_data      = X_rw,                             # numpy matrix\n",
    "    feature_names      = X_rw_df.columns.tolist(),         # list of d names\n",
    "    class_names        = ['Not Employed','Employed'],      # adjust if needed\n",
    "    discretize_continuous=False                           # your data is pre-scaled/encoded\n",
    ")\n",
    "\n",
    "# 4. Pick an example to explain (e.g. row i of X_test)\n",
    "i = 7\n",
    "x_i = X_test.iloc[i].values\n",
    "\n",
    "exp = explainer.explain_instance(\n",
    "    data_row      = x_i,\n",
    "    predict_fn    = clf_rw.predict_proba,\n",
    "    num_features  = 5\n",
    ")\n",
    "\n",
    "# 5. View it\n",
    "print(\"Local LIME explanation (as list):\")\n",
    "for feat, weight in exp.as_list():\n",
    "    print(f\"  {feat:20s}  {weight:+.3f}\")\n",
    "# Or in notebook: exp.show_in_notebook()\n",
    "\n"
   ]
  },
  {
   "cell_type": "code",
   "execution_count": 61,
   "metadata": {},
   "outputs": [],
   "source": [
    "# import pandas as pd\n",
    "# import numpy as np\n",
    "# import shap\n",
    "# import logging\n",
    "# import matplotlib.pyplot as plt\n",
    "# from patra_toolkit import ModelCard\n",
    "# from sklearn.ensemble import RandomForestClassifier\n",
    "# from sklearn.metrics import accuracy_score, confusion_matrix\n",
    "# import joblib\n",
    "\n",
    "# # Prepare training data\n",
    "# feature_names = dataset_transf.feature_names\n",
    "# X_rw_df = pd.DataFrame(dataset_transf.features, columns=feature_names)\n",
    "# if 'employed_yes' in X_rw_df.columns:\n",
    "#     X_rw_df = X_rw_df.drop(columns=['employed_yes'])\n",
    "# X_rw = X_rw_df.values\n",
    "# y_rw = dataset_transf.labels.ravel()\n",
    "# sample_weight = dataset_transf.instance_weights\n",
    "\n",
    "# # Load and align test data\n",
    "# test = pd.read_csv(\"https://raw.githubusercontent.com/CDEIUK/bias-mitigation/refs/heads/master/artifacts/data/recruiting/processed/test.csv\")\n",
    "# X_test = test.drop(columns=['employed_yes'])[X_rw_df.columns]\n",
    "# y_test = test['employed_yes'].values\n",
    "\n",
    "# # Train and save model\n",
    "# clf_rw = RandomForestClassifier(random_state=42)\n",
    "# clf_rw.fit(X_rw, y_rw, sample_weight=sample_weight)\n",
    "# joblib.dump(clf_rw, \"reweighted_model.pkl\")\n",
    "\n",
    "# # Predictions and accuracy\n",
    "# y_pred = clf_rw.predict(X_test)\n",
    "# acc = accuracy_score(y_test, y_pred)\n",
    "\n",
    "# # Fairness metrics\n",
    "# sr_w = y_pred[test['race_white']==1].mean()\n",
    "# sr_nw = y_pred[test['race_white']==0].mean()\n",
    "# dpd = sr_w - sr_nw\n",
    "# dpr = sr_nw / sr_w if sr_w else np.nan\n",
    "\n",
    "# def tpr_fpr(y_true, y_pred, mask):\n",
    "#     tn, fp, fn, tp = confusion_matrix(y_true[mask], y_pred[mask]).ravel()\n",
    "#     return tp/(tp+fn), fp/(fp+tn)\n",
    "\n",
    "# mask_w = test['race_white']==1\n",
    "# mask_nw = test['race_white']==0\n",
    "# tpr_w, fpr_w = tpr_fpr(y_test, y_pred, mask_w)\n",
    "# tpr_nw, fpr_nw = tpr_fpr(y_test, y_pred, mask_nw)\n",
    "# tpr_diff = tpr_w - tpr_nw\n",
    "# fpr_diff = fpr_w - fpr_nw\n",
    "\n",
    "# # Audit logging\n",
    "# logging.basicConfig(filename='audit.log', level=logging.INFO, format='%(asctime)s | %(levelname)s | %(message)s')\n",
    "# def log_prediction(cid, pred, shap_vals, feat_names):\n",
    "#     top = np.argsort(np.abs(shap_vals))[::-1][:3]\n",
    "#     top_feats = {feat_names[i]: float(shap_vals[i]) for i in top}\n",
    "#     logging.info(f\"Candidate {cid} | pred={pred:.3f} | top_shap={top_feats}\")\n",
    "\n",
    "# # SHAP explainability\n",
    "# explainer = shap.TreeExplainer(clf_rw)\n",
    "# shap_values = explainer.shap_values(X_test)\n",
    "\n",
    "# shap.summary_plot(shap_values[1], X_test, feature_names=X_test.columns, show=False)\n",
    "# plt.savefig(\"shap_summary.png\", bbox_inches=\"tight\")\n",
    "\n",
    "# cid = 0\n",
    "# pred_prob = clf_rw.predict_proba(X_test[cid:cid+1])[0,1]\n",
    "# log_prediction(cid, pred_prob, shap_values[1][cid], list(X_test.columns))\n",
    "# top_idxs = np.argsort(np.abs(shap_values[1][cid]))[::-1][:5]\n",
    "# shap_vals_top5 = shap_values[1][cid][top_idxs]\n",
    "# feat_vals_top5 = X_test.iloc[cid].values[top_idxs]\n",
    "# feat_names_top5 = X_test.columns[top_idxs]\n",
    "# plt.figure(figsize=(10, 3))\n",
    "# shap.force_plot(\n",
    "#     explainer.expected_value[1],\n",
    "#     shap_vals_top5,\n",
    "#     feat_vals_top5,\n",
    "#     feature_names=list(feat_names_top5),\n",
    "#     matplotlib=True,\n",
    "#     show=False\n",
    "# )\n",
    "# plt.xticks(fontsize=10)\n",
    "# plt.yticks(fontsize=10)\n",
    "# plt.tight_layout()\n",
    "# plt.savefig(\"shap_local_top5.png\", dpi=200, bbox_inches=\"tight\")\n",
    "# plt.show()\n",
    "\n",
    "# # Patra model card\n",
    "# card = ModelCard(\n",
    "#     name=\"RF Re-weighed Hiring Model\",\n",
    "#     version=\"1.0\",\n",
    "#     short_description=\"RandomForest on re-weighted recruiting data for bias mitigation\",\n",
    "#     full_description=f\"RandomForestClassifier trained on CDEIUK re-weighted recruiting data. Test accuracy: {acc:.3f}\",\n",
    "#     keywords=[\"random forest\",\"fairness\",\"bias mitigation\",\"hiring\"],\n",
    "#     author=\"Faraz Badali\",\n",
    "#     input_type=\"tabular\",\n",
    "#     category=\"classification\"\n",
    "# )\n",
    "# card.populate_bias(\n",
    "#     true_labels=y_test,\n",
    "#     predicted_labels=y_pred,\n",
    "#     sensitive_feature_name=\"race_white\",\n",
    "#     sensitive_feature_data=test['race_white'].values,\n",
    "#     model=clf_rw,\n",
    "#     dataset=X_test\n",
    "# )\n",
    "# card.populate_xai({\n",
    "#     \"SHAP summary plot\": \"shap_summary.png\",\n",
    "#     \"SHAP local top-5 plot\": \"shap_local_top5.png\"\n",
    "# })\n",
    "# card.validate()\n",
    "# card.save(\"model_card.json\")\n",
    "\n",
    "# print(\"Done: model, plots, and model_card.json generated.\")"
   ]
  },
  {
   "cell_type": "markdown",
   "metadata": {},
   "source": [
    "# Explainability"
   ]
  },
  {
   "cell_type": "code",
   "execution_count": 59,
   "metadata": {
    "colab": {
     "base_uri": "https://localhost:8080/",
     "height": 356
    },
    "id": "QM06XOkuq2kc",
    "outputId": "4844ea50-394f-4207-d609-df74c5b3a1e9"
   },
   "outputs": [
    {
     "name": "stdout",
     "output_type": "stream",
     "text": [
      "Requirement already satisfied: shap in c:\\users\\faraz\\anaconda3\\lib\\site-packages (0.46.0)\n",
      "Requirement already satisfied: patra-toolkit in c:\\users\\faraz\\anaconda3\\lib\\site-packages (0.1.2)\n",
      "Requirement already satisfied: numpy in c:\\users\\faraz\\anaconda3\\lib\\site-packages (from shap) (1.26.2)\n",
      "Requirement already satisfied: scipy in c:\\users\\faraz\\anaconda3\\lib\\site-packages (from shap) (1.12.0)\n",
      "Requirement already satisfied: scikit-learn in c:\\users\\faraz\\anaconda3\\lib\\site-packages (from shap) (1.3.0)\n",
      "Requirement already satisfied: pandas in c:\\users\\faraz\\anaconda3\\lib\\site-packages (from shap) (2.2.3)\n",
      "Requirement already satisfied: tqdm>=4.27.0 in c:\\users\\faraz\\anaconda3\\lib\\site-packages (from shap) (4.65.0)\n",
      "Requirement already satisfied: packaging>20.9 in c:\\users\\faraz\\anaconda3\\lib\\site-packages (from shap) (23.2)\n",
      "Requirement already satisfied: slicer==0.0.8 in c:\\users\\faraz\\anaconda3\\lib\\site-packages (from shap) (0.0.8)\n",
      "Requirement already satisfied: numba in c:\\users\\faraz\\anaconda3\\lib\\site-packages (from shap) (0.58.1)\n",
      "Requirement already satisfied: cloudpickle in c:\\users\\faraz\\anaconda3\\lib\\site-packages (from shap) (2.2.1)\n",
      "Requirement already satisfied: jsonschema>4.18.5 in c:\\users\\faraz\\anaconda3\\lib\\site-packages (from patra-toolkit) (4.19.2)\n",
      "Requirement already satisfied: fairlearn~=0.11.0 in c:\\users\\faraz\\anaconda3\\lib\\site-packages (from patra-toolkit) (0.11.0)\n",
      "Requirement already satisfied: requests>2.32.2 in c:\\users\\faraz\\anaconda3\\lib\\site-packages (from patra-toolkit) (2.32.3)\n",
      "Requirement already satisfied: attrs>=22.2.0 in c:\\users\\faraz\\anaconda3\\lib\\site-packages (from jsonschema>4.18.5->patra-toolkit) (23.1.0)\n",
      "Requirement already satisfied: jsonschema-specifications>=2023.03.6 in c:\\users\\faraz\\anaconda3\\lib\\site-packages (from jsonschema>4.18.5->patra-toolkit) (2023.7.1)\n",
      "Requirement already satisfied: referencing>=0.28.4 in c:\\users\\faraz\\anaconda3\\lib\\site-packages (from jsonschema>4.18.5->patra-toolkit) (0.30.2)\n",
      "Requirement already satisfied: rpds-py>=0.7.1 in c:\\users\\faraz\\anaconda3\\lib\\site-packages (from jsonschema>4.18.5->patra-toolkit) (0.10.6)\n",
      "Requirement already satisfied: python-dateutil>=2.8.2 in c:\\users\\faraz\\anaconda3\\lib\\site-packages (from pandas->shap) (2.8.2)\n",
      "Requirement already satisfied: pytz>=2020.1 in c:\\users\\faraz\\anaconda3\\lib\\site-packages (from pandas->shap) (2023.3.post1)\n",
      "Requirement already satisfied: tzdata>=2022.7 in c:\\users\\faraz\\anaconda3\\lib\\site-packages (from pandas->shap) (2023.3)\n",
      "Requirement already satisfied: charset-normalizer<4,>=2 in c:\\users\\faraz\\anaconda3\\lib\\site-packages (from requests>2.32.2->patra-toolkit) (2.0.4)\n",
      "Requirement already satisfied: idna<4,>=2.5 in c:\\users\\faraz\\anaconda3\\lib\\site-packages (from requests>2.32.2->patra-toolkit) (2.10)\n",
      "Requirement already satisfied: urllib3<3,>=1.21.1 in c:\\users\\faraz\\anaconda3\\lib\\site-packages (from requests>2.32.2->patra-toolkit) (2.1.0)\n",
      "Requirement already satisfied: certifi>=2017.4.17 in c:\\users\\faraz\\anaconda3\\lib\\site-packages (from requests>2.32.2->patra-toolkit) (2024.2.2)\n",
      "Requirement already satisfied: joblib>=1.1.1 in c:\\users\\faraz\\anaconda3\\lib\\site-packages (from scikit-learn->shap) (1.2.0)\n",
      "Requirement already satisfied: threadpoolctl>=2.0.0 in c:\\users\\faraz\\anaconda3\\lib\\site-packages (from scikit-learn->shap) (2.2.0)\n",
      "Requirement already satisfied: colorama in c:\\users\\faraz\\anaconda3\\lib\\site-packages (from tqdm>=4.27.0->shap) (0.4.6)\n",
      "Requirement already satisfied: llvmlite<0.42,>=0.41.0dev0 in c:\\users\\faraz\\anaconda3\\lib\\site-packages (from numba->shap) (0.41.1)\n",
      "Requirement already satisfied: six>=1.5 in c:\\users\\faraz\\anaconda3\\lib\\site-packages (from python-dateutil>=2.8.2->pandas->shap) (1.16.0)\n"
     ]
    },
    {
     "name": "stderr",
     "output_type": "stream",
     "text": [
      "WARNING: Ignoring invalid distribution -atplotlib (c:\\users\\faraz\\anaconda3\\lib\\site-packages)\n",
      "WARNING: Ignoring invalid distribution -atplotlib (c:\\users\\faraz\\anaconda3\\lib\\site-packages)\n"
     ]
    },
    {
     "name": "stdout",
     "output_type": "stream",
     "text": [
      "✅ Re-weighted model saved to reweighted_model.pkl\n",
      "Re-weighted Model Accuracy: 84.25%\n",
      "\n",
      "Demographic Parity (race_white):\n",
      "  Difference : 0.313\n",
      "  Ratio      : 0.382\n",
      "\n",
      "Equalized Odds (race_white):\n",
      "  TPR diff : 0.124\n",
      "  FPR diff : 0.112\n"
     ]
    },
    {
     "name": "stderr",
     "output_type": "stream",
     "text": [
      "X has feature names, but RandomForestClassifier was fitted without feature names\n",
      "X has feature names, but RandomForestClassifier was fitted without feature names\n"
     ]
    },
    {
     "data": {
      "image/png": "[encoded data removed]",
      "text/plain": [
       "<Figure size 800x670 with 2 Axes>"
      ]
     },
     "metadata": {},
     "output_type": "display_data"
    },
    {
     "data": {
      "text/plain": [
       "<Figure size 1000x300 with 0 Axes>"
      ]
     },
     "metadata": {},
     "output_type": "display_data"
    },
    {
     "data": {
      "image/png": "[encoded data removed]",
      "text/plain": [
       "<Figure size 2000x300 with 1 Axes>"
      ]
     },
     "metadata": {},
     "output_type": "display_data"
    },
    {
     "name": "stdout",
     "output_type": "stream",
     "text": [
      "['random forest', 'fairness', 'bias mitigation', 'hiring'] is not of type 'string'\n",
      "✅ Model card written to model_card.json\n"
     ]
    }
   ],
   "source": [
    "# 0. Install required libraries (run once in your notebook)\n",
    "!pip install shap patra-toolkit\n",
    "\n",
    "# 1. Imports\n",
    "import pandas as pd\n",
    "import numpy as np\n",
    "import shap\n",
    "import logging\n",
    "import matplotlib.pyplot as plt\n",
    "from patra_toolkit import ModelCard, Metric\n",
    "from sklearn.ensemble import RandomForestClassifier\n",
    "from sklearn.metrics import accuracy_score, confusion_matrix\n",
    "import joblib\n",
    "\n",
    "# 2. Load & prepare data\n",
    "feature_names = dataset_transf.feature_names\n",
    "X_rw_df = pd.DataFrame(dataset_transf.features, columns=feature_names)\n",
    "if 'employed_yes' in X_rw_df.columns:\n",
    "    X_rw_df = X_rw_df.drop(columns=['employed_yes'])\n",
    "X_rw = X_rw_df.values\n",
    "y_rw = dataset_transf.labels.ravel()\n",
    "sample_weight = dataset_transf.instance_weights\n",
    "\n",
    "test_url = (\n",
    "    \"https://raw.githubusercontent.com/CDEIUK/bias-mitigation/\"\n",
    "    \"refs/heads/master/artifacts/data/recruiting/processed/test.csv\"\n",
    ")\n",
    "test = pd.read_csv(test_url)\n",
    "X_test = test.drop(columns=['employed_yes'])\n",
    "X_test = X_test[X_rw_df.columns]\n",
    "y_test = test['employed_yes'].values\n",
    "\n",
    "# 3. Train & save re-weighted model\n",
    "clf_rw = RandomForestClassifier(random_state=42)\n",
    "clf_rw.fit(X_rw, y_rw, sample_weight=sample_weight)\n",
    "joblib.dump(clf_rw, \"reweighted_model.pkl\")\n",
    "print(\"✅ Re-weighted model saved to reweighted_model.pkl\")\n",
    "\n",
    "# 4. Compute accuracy\n",
    "y_pred = clf_rw.predict(X_test)\n",
    "acc = accuracy_score(y_test, y_pred)\n",
    "print(f\"Re-weighted Model Accuracy: {acc*100:.2f}%\")\n",
    "\n",
    "# 5. Compute fairness metrics\n",
    "sr_w  = y_pred[test['race_white']==1].mean()\n",
    "sr_nw = y_pred[test['race_white']==0].mean()\n",
    "dpd   = sr_w - sr_nw\n",
    "dpr   = sr_nw / sr_w if sr_w else np.nan\n",
    "\n",
    "print(\"\\nDemographic Parity (race_white):\")\n",
    "print(f\"  Difference : {dpd:.3f}\")\n",
    "print(f\"  Ratio      : {dpr:.3f}\")\n",
    "\n",
    "def tpr_fpr(y_true, y_pred, mask):\n",
    "    tn, fp, fn, tp = confusion_matrix(y_true[mask], y_pred[mask]).ravel()\n",
    "    return tp/(tp+fn), fp/(fp+tn)\n",
    "\n",
    "mask_w  = test['race_white']==1\n",
    "mask_nw = test['race_white']==0\n",
    "tpr_w, fpr_w   = tpr_fpr(y_test, y_pred, mask_w)\n",
    "tpr_nw, fpr_nw = tpr_fpr(y_test, y_pred, mask_nw)\n",
    "tpr_diff = tpr_w - tpr_nw\n",
    "fpr_diff = fpr_w - fpr_nw\n",
    "\n",
    "print(\"\\nEqualized Odds (race_white):\")\n",
    "print(f\"  TPR diff : {tpr_diff:.3f}\")\n",
    "print(f\"  FPR diff : {fpr_diff:.3f}\")\n",
    "\n",
    "# 6. Configure audit logging\n",
    "logging.basicConfig(\n",
    "    filename='audit.log',\n",
    "    level=logging.INFO,\n",
    "    format='%(asctime)s | %(levelname)s | %(message)s'\n",
    ")\n",
    "def log_prediction(cid, pred, shap_vals, feat_names):\n",
    "    top = np.argsort(np.abs(shap_vals))[::-1][:3]\n",
    "    top_feats = {feat_names[i]: float(shap_vals[i]) for i in top}\n",
    "    logging.info(f\"Candidate {cid} | pred={pred:.3f} | top_shap={top_feats}\")\n",
    "\n",
    "# 7. Explainability via SHAP\n",
    "# explainer = shap.TreeExplainer(clf_rw)\n",
    "# shap_values = explainer.shap_values(X_test)\n",
    "# 7. Explainability via SHAP (with additivity check disabled)\n",
    "explainer = shap.TreeExplainer(\n",
    "    clf_rw,\n",
    "    feature_perturbation=\"tree_path_dependent\"\n",
    ")\n",
    "shap_values = explainer.shap_values(\n",
    "    X_test,\n",
    "    check_additivity=False\n",
    ")\n",
    "\n",
    "\n",
    "# 7a) Global summary plot\n",
    "shap.summary_plot(\n",
    "    shap_values[1],\n",
    "    X_test,\n",
    "    feature_names=X_test.columns,\n",
    "    show=False\n",
    ")\n",
    "plt.savefig(\"shap_summary.png\", bbox_inches=\"tight\")\n",
    "\n",
    "\n",
    "# 7b) Local force‐plot for candidate 0, top 5 features only\n",
    "cid = 0\n",
    "pred_prob = clf_rw.predict_proba(X_test[cid:cid+1])[0,1]\n",
    "log_prediction(cid, pred_prob, shap_values[1][cid], list(X_test.columns))\n",
    "\n",
    "# select top-5 features by absolute SHAP value\n",
    "top_idxs        = np.argsort(np.abs(shap_values[1][cid]))[::-1][:5]\n",
    "shap_vals_top5  = shap_values[1][cid][top_idxs]\n",
    "feat_vals_top5  = X_test.iloc[cid].values[top_idxs]\n",
    "feat_names_top5 = X_test.columns[top_idxs]\n",
    "\n",
    "plt.figure(figsize=(10, 3))\n",
    "shap.force_plot(\n",
    "    explainer.expected_value[1],\n",
    "    shap_vals_top5,\n",
    "    feat_vals_top5,\n",
    "    feature_names=list(feat_names_top5),\n",
    "    matplotlib=True,\n",
    "    show=False\n",
    ")\n",
    "plt.xticks(fontsize=10)\n",
    "plt.yticks(fontsize=10)\n",
    "plt.tight_layout()\n",
    "plt.savefig(\"shap_local_top5.png\", dpi=200, bbox_inches=\"tight\")\n",
    "plt.show()\n",
    "\n",
    "# 8. Build & save a Patra Model Card\n",
    "# 8. Build & save a Patra Model Card (with AIModel for performance)\n",
    "from patra_toolkit import ModelCard, AIModel\n",
    "\n",
    "# 8a) Instantiate the ModelCard with metadata\n",
    "card = ModelCard(\n",
    "    name=\"RF Re-weighed Hiring Model\",\n",
    "    version=\"1.0\",\n",
    "    short_description=\"RandomForest on re-weighted recruiting data for bias mitigation\",\n",
    "    full_description=(\n",
    "        \"RandomForestClassifier trained on CDEIUK re-weighted recruiting data. \"\n",
    "        \"Instance weights applied per Kamiran & Calders to mitigate race bias.\"\n",
    "    ),\n",
    "    keywords=[\"random forest\", \"fairness\", \"bias mitigation\", \"hiring\"],\n",
    "    author=\"Faraz Badali\",\n",
    "    input_type=\"tabular\",\n",
    "    category=\"classification\",\n",
    "    foundational_model=\"None\"\n",
    ")\n",
    "\n",
    "# 8b) Create an AIModel object to hold your trained model & accuracy\n",
    "ai_model = AIModel(\n",
    "    name=\"RF Re-weighed Hiring Model\",\n",
    "    version=\"1.0\",\n",
    "    description=\"RandomForestClassifier trained on re-weighted recruiting data to mitigate race bias\",\n",
    "    owner=\"team\",\n",
    "    location=\"reweighted_model.pkl\",\n",
    "    license=\"BSD-3-Clause\",\n",
    "    framework=\"sklearn\",\n",
    "    model_type=\"random_forest\",\n",
    "    test_accuracy=acc\n",
    ")\n",
    "# Populate its structure and attach it\n",
    "ai_model.populate_model_structure(clf_rw)\n",
    "card.ai_model = ai_model\n",
    "\n",
    "# # 8c) Plug in your fairness & XAI artifacts exactly as before\n",
    "# card.populate_bias({\n",
    "#     \"Statistical Parity Difference\": dpd,\n",
    "#     \"Demographic Parity Ratio\":      dpr,\n",
    "#     \"TPR Difference\":                tpr_diff,\n",
    "#     \"FPR Difference\":                fpr_diff\n",
    "# })\n",
    "card.populate_bias(\n",
    "    true_labels=y_test,\n",
    "    predicted_labels=y_pred,\n",
    "    sensitive_feature_name=\"race_white\",\n",
    "    sensitive_feature_data=test['race_white'].values,\n",
    "    model=clf_rw,\n",
    "    dataset=X_test\n",
    ")\n",
    "# card.populate_xai(\n",
    "#     train_dataset=X_test,\n",
    "#     column_names=list(X_test.columns),\n",
    "#     model=clf_rw,\n",
    "#     n_features=5         # or however many top‐features you want plotted\n",
    "# )\n",
    "\n",
    "# 8c) Manually attach your explainability artifacts\n",
    "# Create (or grab) the metadata dict\n",
    "md = getattr(card, \"metadata\", {})\n",
    "# Insert your PNGs under a custom key\n",
    "md[\"explainability_artifacts\"] = {\n",
    "    \"SHAP summary plot\":     \"shap_summary.png\",\n",
    "    \"SHAP local top-5 plot\": \"shap_local_top5.png\"\n",
    "}\n",
    "# Put it back on the card\n",
    "card.metadata = md\n",
    "\n",
    "\n",
    "\n",
    "\n",
    "# 8d) (Optional) capture your Python deps automatically\n",
    "card.populate_requirements()\n",
    "\n",
    "# 8e) Validate & write out your model_card.json\n",
    "card.validate()\n",
    "card.save(\"model_card.json\")\n",
    "print(\"✅ Model card written to model_card.json\")\n",
    "\n",
    "\n"
   ]
  },
  {
   "cell_type": "code",
   "execution_count": null,
   "metadata": {},
   "outputs": [],
   "source": []
  },
  {
   "cell_type": "markdown",
   "metadata": {
    "id": "sSJTgEoYaXdT"
   },
   "source": []
  },
  {
   "cell_type": "markdown",
   "metadata": {
    "id": "_19lQCToaz0i"
   },
   "source": [
    "Hedef: DP Difference = 0 ve DP Ratio = 1\n",
    "\n",
    "kısaca model beyazlara göre beyaz olmayanları daha az işe alıyor."
   ]
  },
  {
   "cell_type": "code",
   "execution_count": 26,
   "metadata": {
    "colab": {
     "base_uri": "https://localhost:8080/"
    },
    "id": "Jjuo19RWY5mb",
    "outputId": "5cfc40fd-2338-4808-df54-fc16ae59e2c6"
   },
   "outputs": [
    {
     "name": "stdout",
     "output_type": "stream",
     "text": [
      "Unaware Model Accuracy: 84.20%\n",
      "\n",
      "Demographic Parity (race_white):\n",
      "  Diff : 0.268\n",
      "  Ratio: 0.451\n",
      "\n",
      "Equalized Odds (race_white):\n",
      "  TPR diff: 0.053\n",
      "  FPR diff: 0.072\n"
     ]
    }
   ],
   "source": [
    "import pandas as pd\n",
    "from sklearn.ensemble import RandomForestClassifier\n",
    "from sklearn.metrics import accuracy_score, confusion_matrix\n",
    "\n",
    "# 1) Veri yükle (train CSV’ini daha önce AIF360’la işlemiş olsak da, baseline için raw train kullanıyoruz)\n",
    "url_train = \"https://raw.githubusercontent.com/CDEIUK/bias-mitigation/refs/heads/master/artifacts/data/recruiting/processed/train.csv\"\n",
    "train = pd.read_csv(url_train)\n",
    "\n",
    "# 2) Özelliklerden protected attribute’ı çıkar\n",
    "X_train_ua = train.drop(columns=['employed_yes','race_white'])  # race_white yok\n",
    "y_train   = train['employed_yes']\n",
    "\n",
    "# 3) Aynı şekilde test setini hazırla\n",
    "url_test = \"https://raw.githubusercontent.com/CDEIUK/bias-mitigation/refs/heads/master/artifacts/data/recruiting/processed/test.csv\"\n",
    "test = pd.read_csv(url_test)\n",
    "X_test_ua = test.drop(columns=['employed_yes','race_white'])\n",
    "y_test    = test['employed_yes']\n",
    "\n",
    "# 4) RandomForest’i eğit\n",
    "clf_ua = RandomForestClassifier(random_state=42)\n",
    "clf_ua.fit(X_train_ua, y_train)\n",
    "\n",
    "# 5) Tahmin ve Accuracy\n",
    "y_pred_ua = clf_ua.predict(X_test_ua)\n",
    "acc_ua = accuracy_score(y_test, y_pred_ua)\n",
    "print(f\"Unaware Model Accuracy: {acc_ua*100:.2f}%\")\n",
    "\n",
    "# 6) Demographic Parity (race_white) ölçümü\n",
    "sr_white    = y_pred_ua[test['race_white']==1].mean()\n",
    "sr_nonwhite = y_pred_ua[test['race_white']==0].mean()\n",
    "dp_diff = sr_white - sr_nonwhite\n",
    "dp_ratio= sr_nonwhite / sr_white\n",
    "print(\"\\nDemographic Parity (race_white):\")\n",
    "print(f\"  Diff : {dp_diff:.3f}\")\n",
    "print(f\"  Ratio: {dp_ratio:.3f}\")\n",
    "\n",
    "# 7) Equalized Odds (race_white)\n",
    "def tpr_fpr(y_true, y_pred, mask):\n",
    "    tn, fp, fn, tp = confusion_matrix(y_true[mask], y_pred[mask]).ravel()\n",
    "    return tp/(tp+fn), fp/(fp+tn)\n",
    "\n",
    "mask_w  = test['race_white']==1\n",
    "mask_nw = test['race_white']==0\n",
    "tpr_w, fpr_w   = tpr_fpr(y_test, y_pred_ua, mask_w)\n",
    "tpr_nw, fpr_nw = tpr_fpr(y_test, y_pred_ua, mask_nw)\n",
    "print(\"\\nEqualized Odds (race_white):\")\n",
    "print(f\"  TPR diff: {tpr_w - tpr_nw:.3f}\")\n",
    "print(f\"  FPR diff: {fpr_w - fpr_nw:.3f}\")\n"
   ]
  },
  {
   "cell_type": "code",
   "execution_count": null,
   "metadata": {
    "id": "t31t0kVtam7H"
   },
   "outputs": [],
   "source": []
  },
  {
   "cell_type": "code",
   "execution_count": 27,
   "metadata": {
    "colab": {
     "base_uri": "https://localhost:8080/"
    },
    "id": "RsP6RVrgdOjK",
    "outputId": "c8ba4722-2358-4a7c-9719-62e729fd2a6c"
   },
   "outputs": [
    {
     "name": "stdout",
     "output_type": "stream",
     "text": [
      "Collecting aix360\n",
      "  Downloading aix360-0.3.0-py3-none-any.whl.metadata (18 kB)\n",
      "Requirement already satisfied: scikit-learn in c:\\users\\faraz\\anaconda3\\lib\\site-packages (1.3.0)\n",
      "Requirement already satisfied: numpy in c:\\users\\faraz\\anaconda3\\lib\\site-packages (from aix360) (1.26.4)\n",
      "Requirement already satisfied: pandas in c:\\users\\faraz\\anaconda3\\lib\\site-packages (from aix360) (2.1.4)\n",
      "Requirement already satisfied: matplotlib in c:\\users\\faraz\\appdata\\roaming\\python\\python310\\site-packages (from aix360) (3.8.3)\n",
      "Requirement already satisfied: scipy>=1.5.0 in c:\\users\\faraz\\anaconda3\\lib\\site-packages (from scikit-learn) (1.12.0)\n",
      "Requirement already satisfied: joblib>=1.1.1 in c:\\users\\faraz\\anaconda3\\lib\\site-packages (from scikit-learn) (1.2.0)\n",
      "Requirement already satisfied: threadpoolctl>=2.0.0 in c:\\users\\faraz\\anaconda3\\lib\\site-packages (from scikit-learn) (2.2.0)\n",
      "Requirement already satisfied: contourpy>=1.0.1 in c:\\users\\faraz\\anaconda3\\lib\\site-packages (from matplotlib->aix360) (1.2.0)\n",
      "Requirement already satisfied: cycler>=0.10 in c:\\users\\faraz\\anaconda3\\lib\\site-packages (from matplotlib->aix360) (0.11.0)\n",
      "Requirement already satisfied: fonttools>=4.22.0 in c:\\users\\faraz\\anaconda3\\lib\\site-packages (from matplotlib->aix360) (4.25.0)\n",
      "Requirement already satisfied: kiwisolver>=1.3.1 in c:\\users\\faraz\\anaconda3\\lib\\site-packages (from matplotlib->aix360) (1.4.4)\n",
      "Requirement already satisfied: packaging>=20.0 in c:\\users\\faraz\\anaconda3\\lib\\site-packages (from matplotlib->aix360) (23.2)\n",
      "Requirement already satisfied: pillow>=8 in c:\\users\\faraz\\anaconda3\\lib\\site-packages (from matplotlib->aix360) (10.2.0)\n",
      "Requirement already satisfied: pyparsing>=2.3.1 in c:\\users\\faraz\\anaconda3\\lib\\site-packages (from matplotlib->aix360) (3.0.9)\n",
      "Requirement already satisfied: python-dateutil>=2.7 in c:\\users\\faraz\\anaconda3\\lib\\site-packages (from matplotlib->aix360) (2.8.2)\n",
      "Requirement already satisfied: pytz>=2020.1 in c:\\users\\faraz\\anaconda3\\lib\\site-packages (from pandas->aix360) (2023.3.post1)\n",
      "Requirement already satisfied: tzdata>=2022.1 in c:\\users\\faraz\\anaconda3\\lib\\site-packages (from pandas->aix360) (2023.3)\n",
      "Requirement already satisfied: six>=1.5 in c:\\users\\faraz\\anaconda3\\lib\\site-packages (from python-dateutil>=2.7->matplotlib->aix360) (1.16.0)\n",
      "Downloading aix360-0.3.0-py3-none-any.whl (58.4 MB)\n",
      "   ---------------------------------------- 0.0/58.4 MB ? eta -:--:--\n",
      "   ---------------------------------------- 0.0/58.4 MB ? eta -:--:--\n",
      "   ---------------------------------------- 0.1/58.4 MB 812.7 kB/s eta 0:01:12\n",
      "   ---------------------------------------- 0.2/58.4 MB 1.5 MB/s eta 0:00:39\n",
      "   ---------------------------------------- 0.4/58.4 MB 2.6 MB/s eta 0:00:23\n",
      "    --------------------------------------- 1.0/58.4 MB 4.7 MB/s eta 0:00:13\n",
      "   - -------------------------------------- 2.1/58.4 MB 8.2 MB/s eta 0:00:07\n",
      "   -- ------------------------------------- 4.2/58.4 MB 14.0 MB/s eta 0:00:04\n",
      "   --- ------------------------------------ 5.8/58.4 MB 17.6 MB/s eta 0:00:03\n",
      "   ---- ----------------------------------- 6.2/58.4 MB 17.3 MB/s eta 0:00:04\n",
      "   ---- ----------------------------------- 6.9/58.4 MB 17.0 MB/s eta 0:00:04\n",
      "   ----- ---------------------------------- 8.0/58.4 MB 16.5 MB/s eta 0:00:04\n",
      "   ------ --------------------------------- 8.8/58.4 MB 16.6 MB/s eta 0:00:03\n",
      "   ------ --------------------------------- 8.8/58.4 MB 15.3 MB/s eta 0:00:04\n",
      "   ------ --------------------------------- 10.1/58.4 MB 16.2 MB/s eta 0:00:03\n",
      "   ------- -------------------------------- 10.5/58.4 MB 19.3 MB/s eta 0:00:03\n",
      "   ------- -------------------------------- 11.2/58.4 MB 20.5 MB/s eta 0:00:03\n",
      "   -------- ------------------------------- 11.8/58.4 MB 19.2 MB/s eta 0:00:03\n",
      "   -------- ------------------------------- 12.0/58.4 MB 18.2 MB/s eta 0:00:03\n",
      "   -------- ------------------------------- 13.1/58.4 MB 17.7 MB/s eta 0:00:03\n",
      "   ----------- ---------------------------- 16.5/58.4 MB 20.5 MB/s eta 0:00:03\n",
      "   ------------- -------------------------- 19.9/58.4 MB 29.7 MB/s eta 0:00:02\n",
      "   --------------- ------------------------ 23.2/58.4 MB 72.6 MB/s eta 0:00:01\n",
      "   ------------------ --------------------- 26.5/58.4 MB 72.6 MB/s eta 0:00:01\n",
      "   ------------------- -------------------- 29.0/58.4 MB 73.1 MB/s eta 0:00:01\n",
      "   -------------------- ------------------- 30.0/58.4 MB 59.5 MB/s eta 0:00:01\n",
      "   ----------------------- ---------------- 34.7/58.4 MB 59.5 MB/s eta 0:00:01\n",
      "   ------------------------- -------------- 37.2/58.4 MB 54.7 MB/s eta 0:00:01\n",
      "   -------------------------- ------------- 38.7/58.4 MB 54.4 MB/s eta 0:00:01\n",
      "   ---------------------------- ----------- 41.4/58.4 MB 59.5 MB/s eta 0:00:01\n",
      "   ----------------------------- ---------- 43.0/58.4 MB 50.4 MB/s eta 0:00:01\n",
      "   ------------------------------ --------- 44.7/58.4 MB 43.7 MB/s eta 0:00:01\n",
      "   ------------------------------- -------- 46.3/58.4 MB 40.9 MB/s eta 0:00:01\n",
      "   -------------------------------- ------- 47.9/58.4 MB 38.5 MB/s eta 0:00:01\n",
      "   --------------------------------- ------ 49.4/58.4 MB 40.9 MB/s eta 0:00:01\n",
      "   ----------------------------------- ---- 51.1/58.4 MB 36.4 MB/s eta 0:00:01\n",
      "   ------------------------------------ --- 52.8/58.4 MB 34.4 MB/s eta 0:00:01\n",
      "   ------------------------------------- -- 54.6/58.4 MB 36.3 MB/s eta 0:00:01\n",
      "   -------------------------------------- - 56.3/58.4 MB 36.4 MB/s eta 0:00:01\n",
      "   ---------------------------------------  58.0/58.4 MB 36.4 MB/s eta 0:00:01\n",
      "   ---------------------------------------  58.4/58.4 MB 36.4 MB/s eta 0:00:01\n",
      "   ---------------------------------------- 58.4/58.4 MB 28.5 MB/s eta 0:00:00\n",
      "Installing collected packages: aix360\n",
      "Successfully installed aix360-0.3.0\n"
     ]
    },
    {
     "name": "stderr",
     "output_type": "stream",
     "text": [
      "WARNING: Ignoring invalid distribution -atplotlib (c:\\users\\faraz\\anaconda3\\lib\\site-packages)\n",
      "WARNING: Ignoring invalid distribution -atplotlib (c:\\users\\faraz\\anaconda3\\lib\\site-packages)\n"
     ]
    }
   ],
   "source": [
    "!pip install aix360 scikit-learn\n",
    "\n"
   ]
  },
  {
   "cell_type": "code",
   "execution_count": null,
   "metadata": {
    "id": "SYAVP4zjd_Uo"
   },
   "outputs": [],
   "source": []
  },
  {
   "cell_type": "code",
   "execution_count": 28,
   "metadata": {
    "colab": {
     "base_uri": "https://localhost:8080/"
    },
    "id": "UTR6JGTgfvg2",
    "outputId": "33d50fdd-2f91-4546-cd30-b2273a5b9eda"
   },
   "outputs": [
    {
     "name": "stdout",
     "output_type": "stream",
     "text": [
      "EG (eps=0.01) Accuracy: 76.55%\n",
      "DP Diff: 0.006760108161730616\n",
      "DP Ratio: 0.9805963466020643\n"
     ]
    }
   ],
   "source": [
    "from sklearn.linear_model import LogisticRegression\n",
    "from fairlearn.reductions import ExponentiatedGradient, DemographicParity\n",
    "from sklearn.metrics import accuracy_score\n",
    "\n",
    "# Temel veriler\n",
    "X_train = train.drop(columns=['employed_yes','race_white'])\n",
    "y_train = train['employed_yes']\n",
    "sens_train = train['race_white']\n",
    "X_test  = test.drop(columns=['employed_yes','race_white'])\n",
    "y_test  = test['employed_yes']\n",
    "sens_test = test['race_white']\n",
    "\n",
    "# 1) Eps=0.01 ile güçlü DP kısıtı\n",
    "est = LogisticRegression(solver='liblinear')\n",
    "constraint = DemographicParity()\n",
    "mitigator = ExponentiatedGradient(est, constraints=constraint, eps=0.01)\n",
    "mitigator.fit(X_train, y_train, sensitive_features=sens_train)\n",
    "\n",
    "# 2) Tahmin & accuracy\n",
    "y_pred_eg = mitigator.predict(X_test)\n",
    "print(f\"EG (eps=0.01) Accuracy: {accuracy_score(y_test, y_pred_eg)*100:.2f}%\")\n",
    "\n",
    "# 3) DP hesapla\n",
    "sr_w  = y_pred_eg[sens_test==1].mean()\n",
    "sr_nw = y_pred_eg[sens_test==0].mean()\n",
    "print(\"DP Diff:\", sr_w - sr_nw)\n",
    "print(\"DP Ratio:\", sr_nw / sr_w)\n"
   ]
  },
  {
   "cell_type": "code",
   "execution_count": 29,
   "metadata": {
    "colab": {
     "base_uri": "https://localhost:8080/"
    },
    "id": "bYRLgKJVf4ol",
    "outputId": "4ee14023-514e-4d72-af4d-9e1d1b847a43"
   },
   "outputs": [
    {
     "name": "stdout",
     "output_type": "stream",
     "text": [
      "Post-proc Accuracy: 79.00%\n",
      "DP Diff: 0.0036120577929246722\n",
      "DP Ratio: 0.9889981358967799\n"
     ]
    }
   ],
   "source": [
    "from fairlearn.postprocessing import ThresholdOptimizer\n",
    "\n",
    "# 1) RandomForest ile baseline veya reweighed modelini eğit\n",
    "clf = RandomForestClassifier(random_state=42)\n",
    "clf.fit(X_train, y_train, sample_weight=sample_weight)  # ya da sample_weight’ı çıkar\n",
    "\n",
    "# 2) ThresholdOptimizer kur\n",
    "post = ThresholdOptimizer(\n",
    "    estimator=clf,\n",
    "    constraints=\"demographic_parity\",\n",
    "    prefit=True\n",
    ")\n",
    "post.fit(X_test, y_test, sensitive_features=sens_test)\n",
    "\n",
    "# 3) Yeni tahmin\n",
    "y_pred_to = post.predict(X_test, sensitive_features=sens_test)\n",
    "\n",
    "# 4) Ölçümler\n",
    "acc_to = accuracy_score(y_test, y_pred_to)\n",
    "sr_w2  = y_pred_to[sens_test==1].mean()\n",
    "sr_nw2 = y_pred_to[sens_test==0].mean()\n",
    "\n",
    "print(f\"Post-proc Accuracy: {acc_to*100:.2f}%\")\n",
    "print(\"DP Diff:\", sr_w2 - sr_nw2)\n",
    "print(\"DP Ratio:\", sr_nw2 / sr_w2)\n"
   ]
  },
  {
   "cell_type": "code",
   "execution_count": 45,
   "metadata": {},
   "outputs": [
    {
     "name": "stdout",
     "output_type": "stream",
     "text": [
      "sys.version: 3.10.14 | packaged by Anaconda, Inc. | (main, Mar 21 2024, 16:20:14) [MSC v.1916 64 bit (AMD64)]\n",
      "sys.executable: C:\\Users\\Faraz\\anaconda3\\python.exe\n"
     ]
    }
   ],
   "source": [
    "import sys\n",
    "print(\"sys.version:\", sys.version)\n",
    "print(\"sys.executable:\", sys.executable)\n"
   ]
  },
  {
   "cell_type": "code",
   "execution_count": null,
   "metadata": {
    "colab": {
     "base_uri": "https://localhost:8080/",
     "height": 512
    },
    "id": "0q5G6DbAgNQ4",
    "outputId": "e7c66cff-8f7a-4c00-88d1-ccf843711187"
   },
   "outputs": [],
   "source": [
    "\n",
    "\n"
   ]
  },
  {
   "cell_type": "code",
   "execution_count": null,
   "metadata": {
    "colab": {
     "base_uri": "https://localhost:8080/",
     "height": 383
    },
    "id": "etuJQW2PyNfV",
    "outputId": "aeaca697-dd21-495f-dc49-676f9b9acfb0"
   },
   "outputs": [],
   "source": []
  },
  {
   "cell_type": "code",
   "execution_count": null,
   "metadata": {},
   "outputs": [],
   "source": [
    "\n"
   ]
  },
  {
   "cell_type": "code",
   "execution_count": null,
   "metadata": {},
   "outputs": [],
   "source": []
  },
  {
   "cell_type": "code",
   "execution_count": 60,
   "metadata": {
    "id": "qKPLQRppzTRz"
   },
   "outputs": [],
   "source": [
    "# import numpy as np\n",
    "# from aix360.algorithms.contrastive.CEM import CEMExplainer\n",
    "\n",
    "# # 3) Train your baseline model (or reuse an existing one)\n",
    "# url = \"https://raw.githubusercontent.com/CDEIUK/bias-mitigation/refs/heads/master/artifacts/data/recruiting/processed/train.csv\"\n",
    "# train = pd.read_csv(url)\n",
    "# X_train = train.drop(columns=['employed_yes','race_white'])\n",
    "# y_train = train['employed_yes']\n",
    "\n",
    "# model = RandomForestClassifier(random_state=42).fit(X_train, y_train)\n",
    "\n",
    "# # 4) Pick a single candidate from test set\n",
    "# test_url = \"https://raw.githubusercontent.com/CDEIUK/bias-mitigation/refs/heads/master/artifacts/data/recruiting/processed/test.csv\"\n",
    "# test = pd.read_csv(test_url)\n",
    "# X_test = test.drop(columns=['employed_yes','race_white'])\n",
    "# idx = 5         # for example, row #5\n",
    "# x = X_test.iloc[idx:idx+1].values   # shape (1, n_features)\n",
    "# true_label = test.employed_yes.iloc[idx]\n",
    "\n",
    "# # 5) LIME explanation\n",
    "# lime_exp = LimeTabularExplainer(\n",
    "#     training_data=X_train.values,\n",
    "#     feature_names=X_train.columns,\n",
    "#     discretize_continuous=True\n",
    "# )\n",
    "# exp = lime_exp.explain_instance(\n",
    "#     x[0],\n",
    "#     model.predict_proba,\n",
    "#     num_features=5\n",
    "# )\n",
    "# print(\"LIME local feature contributions:\")\n",
    "# for feat, weight in exp.as_list():\n",
    "#     print(f\"  {feat}: {weight:.3f}\")\n",
    "\n",
    "# # 6) Counterfactual (CEM) explanation\n",
    "# cem = CEMExplainer(\n",
    "#     model_predict_fn = lambda inp: model.predict_proba(inp)[:,1],\n",
    "#     mode            = 'PN',    # perturb-negate: generate counterfactuals for negative class\n",
    "#     shape           = x.shape,\n",
    "#     kappa           = 0.0,     # how strongly to enforce prediction flip\n",
    "#     beta            = 0.1,     # feature‐sparsity trade-off\n",
    "#     max_iterations  = 1000,\n",
    "#     learning_rate   = 0.01\n",
    "# )\n",
    "# cfs = cem.explain(x, verbose=False)\n",
    "# cf_example = cfs['PN'][0]     # counterfactual example for this candidate\n",
    "# print(\"\\nCounterfactual suggestion (minimal changes to flip decision):\")\n",
    "# for name, orig, new in zip(X_train.columns, x[0], cf_example):\n",
    "#     if abs(new - orig) > 1e-3:\n",
    "#         print(f\"  {name}: {orig:.3f} → {new:.3f}\")"
   ]
  },
  {
   "cell_type": "code",
   "execution_count": 62,
   "metadata": {},
   "outputs": [
    {
     "name": "stdout",
     "output_type": "stream",
     "text": [
      "Collecting streamlit\n",
      "  Downloading streamlit-1.45.1-py3-none-any.whl.metadata (8.9 kB)\n",
      "Requirement already satisfied: shap in c:\\users\\faraz\\anaconda3\\lib\\site-packages (0.46.0)\n",
      "Requirement already satisfied: dice-ml in c:\\users\\faraz\\anaconda3\\lib\\site-packages (0.11)\n",
      "Requirement already satisfied: joblib in c:\\users\\faraz\\anaconda3\\lib\\site-packages (1.2.0)\n",
      "Requirement already satisfied: pandas in c:\\users\\faraz\\anaconda3\\lib\\site-packages (2.2.3)\n",
      "Requirement already satisfied: scikit-learn in c:\\users\\faraz\\anaconda3\\lib\\site-packages (1.3.0)\n",
      "Collecting altair<6,>=4.0 (from streamlit)\n",
      "  Downloading altair-5.5.0-py3-none-any.whl.metadata (11 kB)\n",
      "Collecting blinker<2,>=1.5.0 (from streamlit)\n",
      "  Downloading blinker-1.9.0-py3-none-any.whl.metadata (1.6 kB)\n",
      "Collecting cachetools<6,>=4.0 (from streamlit)\n",
      "  Downloading cachetools-5.5.2-py3-none-any.whl.metadata (5.4 kB)\n",
      "Requirement already satisfied: click<9,>=7.0 in c:\\users\\faraz\\anaconda3\\lib\\site-packages (from streamlit) (8.1.7)\n",
      "Requirement already satisfied: numpy<3,>=1.23 in c:\\users\\faraz\\anaconda3\\lib\\site-packages (from streamlit) (1.26.2)\n",
      "Requirement already satisfied: packaging<25,>=20 in c:\\users\\faraz\\anaconda3\\lib\\site-packages (from streamlit) (23.2)\n",
      "Requirement already satisfied: pillow<12,>=7.1.0 in c:\\users\\faraz\\anaconda3\\lib\\site-packages (from streamlit) (10.2.0)\n",
      "Requirement already satisfied: protobuf<7,>=3.20 in c:\\users\\faraz\\anaconda3\\lib\\site-packages (from streamlit) (4.25.7)\n",
      "Requirement already satisfied: pyarrow>=7.0 in c:\\users\\faraz\\anaconda3\\lib\\site-packages (from streamlit) (14.0.2)\n",
      "Requirement already satisfied: requests<3,>=2.27 in c:\\users\\faraz\\anaconda3\\lib\\site-packages (from streamlit) (2.32.3)\n",
      "Requirement already satisfied: tenacity<10,>=8.1.0 in c:\\users\\faraz\\anaconda3\\lib\\site-packages (from streamlit) (8.2.2)\n",
      "Requirement already satisfied: toml<2,>=0.10.1 in c:\\users\\faraz\\anaconda3\\lib\\site-packages (from streamlit) (0.10.2)\n",
      "Requirement already satisfied: typing-extensions<5,>=4.4.0 in c:\\users\\faraz\\anaconda3\\lib\\site-packages (from streamlit) (4.9.0)\n",
      "Requirement already satisfied: watchdog<7,>=2.1.5 in c:\\users\\faraz\\anaconda3\\lib\\site-packages (from streamlit) (2.1.6)\n",
      "Collecting gitpython!=3.1.19,<4,>=3.0.7 (from streamlit)\n",
      "  Downloading GitPython-3.1.44-py3-none-any.whl.metadata (13 kB)\n",
      "Collecting pydeck<1,>=0.8.0b4 (from streamlit)\n",
      "  Downloading pydeck-0.9.1-py2.py3-none-any.whl.metadata (4.1 kB)\n",
      "Requirement already satisfied: tornado<7,>=6.0.3 in c:\\users\\faraz\\anaconda3\\lib\\site-packages (from streamlit) (6.3.3)\n",
      "Requirement already satisfied: scipy in c:\\users\\faraz\\anaconda3\\lib\\site-packages (from shap) (1.12.0)\n",
      "Requirement already satisfied: tqdm>=4.27.0 in c:\\users\\faraz\\anaconda3\\lib\\site-packages (from shap) (4.65.0)\n",
      "Requirement already satisfied: slicer==0.0.8 in c:\\users\\faraz\\anaconda3\\lib\\site-packages (from shap) (0.0.8)\n",
      "Requirement already satisfied: numba in c:\\users\\faraz\\anaconda3\\lib\\site-packages (from shap) (0.58.1)\n",
      "Requirement already satisfied: cloudpickle in c:\\users\\faraz\\anaconda3\\lib\\site-packages (from shap) (2.2.1)\n",
      "Requirement already satisfied: jsonschema in c:\\users\\faraz\\anaconda3\\lib\\site-packages (from dice-ml) (4.19.2)\n",
      "Collecting pandas\n",
      "  Using cached pandas-1.5.3-cp310-cp310-win_amd64.whl.metadata (12 kB)\n",
      "Requirement already satisfied: raiutils>=0.4.0 in c:\\users\\faraz\\anaconda3\\lib\\site-packages (from dice-ml) (0.4.2)\n",
      "Requirement already satisfied: python-dateutil>=2.8.1 in c:\\users\\faraz\\anaconda3\\lib\\site-packages (from pandas) (2.8.2)\n",
      "Requirement already satisfied: pytz>=2020.1 in c:\\users\\faraz\\anaconda3\\lib\\site-packages (from pandas) (2023.3.post1)\n",
      "Requirement already satisfied: threadpoolctl>=2.0.0 in c:\\users\\faraz\\anaconda3\\lib\\site-packages (from scikit-learn) (2.2.0)\n",
      "Requirement already satisfied: jinja2 in c:\\users\\faraz\\anaconda3\\lib\\site-packages (from altair<6,>=4.0->streamlit) (3.1.3)\n",
      "Collecting narwhals>=1.14.2 (from altair<6,>=4.0->streamlit)\n",
      "  Downloading narwhals-1.40.0-py3-none-any.whl.metadata (11 kB)\n",
      "Collecting typing-extensions<5,>=4.4.0 (from streamlit)\n",
      "  Using cached typing_extensions-4.13.2-py3-none-any.whl.metadata (3.0 kB)\n",
      "Requirement already satisfied: colorama in c:\\users\\faraz\\anaconda3\\lib\\site-packages (from click<9,>=7.0->streamlit) (0.4.6)\n",
      "Collecting gitdb<5,>=4.0.1 (from gitpython!=3.1.19,<4,>=3.0.7->streamlit)\n",
      "  Downloading gitdb-4.0.12-py3-none-any.whl.metadata (1.2 kB)\n",
      "Requirement already satisfied: attrs>=22.2.0 in c:\\users\\faraz\\anaconda3\\lib\\site-packages (from jsonschema->dice-ml) (23.1.0)\n",
      "Requirement already satisfied: jsonschema-specifications>=2023.03.6 in c:\\users\\faraz\\anaconda3\\lib\\site-packages (from jsonschema->dice-ml) (2023.7.1)\n",
      "Requirement already satisfied: referencing>=0.28.4 in c:\\users\\faraz\\anaconda3\\lib\\site-packages (from jsonschema->dice-ml) (0.30.2)\n",
      "Requirement already satisfied: rpds-py>=0.7.1 in c:\\users\\faraz\\anaconda3\\lib\\site-packages (from jsonschema->dice-ml) (0.10.6)\n",
      "Requirement already satisfied: six>=1.5 in c:\\users\\faraz\\anaconda3\\lib\\site-packages (from python-dateutil>=2.8.1->pandas) (1.16.0)\n",
      "Requirement already satisfied: charset-normalizer<4,>=2 in c:\\users\\faraz\\anaconda3\\lib\\site-packages (from requests<3,>=2.27->streamlit) (2.0.4)\n",
      "Requirement already satisfied: idna<4,>=2.5 in c:\\users\\faraz\\anaconda3\\lib\\site-packages (from requests<3,>=2.27->streamlit) (2.10)\n",
      "Requirement already satisfied: urllib3<3,>=1.21.1 in c:\\users\\faraz\\anaconda3\\lib\\site-packages (from requests<3,>=2.27->streamlit) (2.1.0)\n",
      "Requirement already satisfied: certifi>=2017.4.17 in c:\\users\\faraz\\anaconda3\\lib\\site-packages (from requests<3,>=2.27->streamlit) (2024.2.2)\n",
      "Requirement already satisfied: llvmlite<0.42,>=0.41.0dev0 in c:\\users\\faraz\\anaconda3\\lib\\site-packages (from numba->shap) (0.41.1)\n",
      "Collecting smmap<6,>=3.0.1 (from gitdb<5,>=4.0.1->gitpython!=3.1.19,<4,>=3.0.7->streamlit)\n",
      "  Downloading smmap-5.0.2-py3-none-any.whl.metadata (4.3 kB)\n",
      "Requirement already satisfied: MarkupSafe>=2.0 in c:\\users\\faraz\\anaconda3\\lib\\site-packages (from jinja2->altair<6,>=4.0->streamlit) (2.1.3)\n",
      "Downloading streamlit-1.45.1-py3-none-any.whl (9.9 MB)\n",
      "   ---------------------------------------- 0.0/9.9 MB ? eta -:--:--\n",
      "   ---------------------------------------- 0.0/9.9 MB ? eta -:--:--\n",
      "   ---------------------------------------- 0.0/9.9 MB 660.6 kB/s eta 0:00:15\n",
      "   ---------------------------------------- 0.0/9.9 MB 660.6 kB/s eta 0:00:15\n",
      "   ---------------------------------------- 0.0/9.9 MB 660.6 kB/s eta 0:00:15\n",
      "   ---------------------------------------- 0.0/9.9 MB 660.6 kB/s eta 0:00:15\n",
      "   ---------------------------------------- 0.0/9.9 MB 660.6 kB/s eta 0:00:15\n",
      "   ---------------------------------------- 0.0/9.9 MB 660.6 kB/s eta 0:00:15\n",
      "   ---------------------------------------- 0.0/9.9 MB 660.6 kB/s eta 0:00:15\n",
      "   ---------------------------------------- 0.0/9.9 MB 660.6 kB/s eta 0:00:15\n",
      "   ---------------------------------------- 0.0/9.9 MB 78.8 kB/s eta 0:02:05\n",
      "   ---------------------------------------- 0.1/9.9 MB 121.3 kB/s eta 0:01:21\n",
      "   ---------------------------------------- 0.1/9.9 MB 126.9 kB/s eta 0:01:18\n",
      "   ---------------------------------------- 0.1/9.9 MB 154.3 kB/s eta 0:01:04\n",
      "   ---------------------------------------- 0.1/9.9 MB 182.2 kB/s eta 0:00:54\n",
      "   ---------------------------------------- 0.1/9.9 MB 185.0 kB/s eta 0:00:53\n",
      "    --------------------------------------- 0.2/9.9 MB 224.0 kB/s eta 0:00:44\n",
      "    --------------------------------------- 0.2/9.9 MB 238.5 kB/s eta 0:00:41\n",
      "    --------------------------------------- 0.2/9.9 MB 251.1 kB/s eta 0:00:39\n",
      "    --------------------------------------- 0.2/9.9 MB 288.4 kB/s eta 0:00:34\n",
      "   - -------------------------------------- 0.3/9.9 MB 327.9 kB/s eta 0:00:30\n",
      "   - -------------------------------------- 0.3/9.9 MB 374.5 kB/s eta 0:00:26\n",
      "   - -------------------------------------- 0.4/9.9 MB 391.2 kB/s eta 0:00:25\n",
      "   - -------------------------------------- 0.4/9.9 MB 391.2 kB/s eta 0:00:25\n",
      "   - -------------------------------------- 0.4/9.9 MB 391.2 kB/s eta 0:00:25\n",
      "   - -------------------------------------- 0.4/9.9 MB 391.2 kB/s eta 0:00:25\n",
      "   - -------------------------------------- 0.4/9.9 MB 391.2 kB/s eta 0:00:25\n",
      "   - -------------------------------------- 0.4/9.9 MB 391.2 kB/s eta 0:00:25\n",
      "   - -------------------------------------- 0.4/9.9 MB 391.2 kB/s eta 0:00:25\n",
      "   - -------------------------------------- 0.4/9.9 MB 391.2 kB/s eta 0:00:25\n",
      "   - -------------------------------------- 0.4/9.9 MB 290.4 kB/s eta 0:00:33\n",
      "   - -------------------------------------- 0.4/9.9 MB 290.4 kB/s eta 0:00:33\n",
      "   - -------------------------------------- 0.4/9.9 MB 285.3 kB/s eta 0:00:34\n",
      "   - -------------------------------------- 0.4/9.9 MB 283.0 kB/s eta 0:00:34\n",
      "   - -------------------------------------- 0.4/9.9 MB 302.4 kB/s eta 0:00:32\n",
      "   - -------------------------------------- 0.5/9.9 MB 320.7 kB/s eta 0:00:30\n",
      "   -- ------------------------------------- 0.5/9.9 MB 348.2 kB/s eta 0:00:27\n",
      "   -- ------------------------------------- 0.6/9.9 MB 382.9 kB/s eta 0:00:25\n",
      "   -- ------------------------------------- 0.6/9.9 MB 395.8 kB/s eta 0:00:24\n",
      "   -- ------------------------------------- 0.6/9.9 MB 395.8 kB/s eta 0:00:24\n",
      "   -- ------------------------------------- 0.6/9.9 MB 376.3 kB/s eta 0:00:25\n",
      "   -- ------------------------------------- 0.6/9.9 MB 376.3 kB/s eta 0:00:25\n",
      "   -- ------------------------------------- 0.7/9.9 MB 361.7 kB/s eta 0:00:26\n",
      "   -- ------------------------------------- 0.7/9.9 MB 361.7 kB/s eta 0:00:26\n",
      "   -- ------------------------------------- 0.7/9.9 MB 361.7 kB/s eta 0:00:26\n",
      "   -- ------------------------------------- 0.7/9.9 MB 348.9 kB/s eta 0:00:27\n",
      "   -- ------------------------------------- 0.7/9.9 MB 348.9 kB/s eta 0:00:27\n",
      "   -- ------------------------------------- 0.7/9.9 MB 348.9 kB/s eta 0:00:27\n",
      "   -- ------------------------------------- 0.7/9.9 MB 335.2 kB/s eta 0:00:28\n",
      "   -- ------------------------------------- 0.7/9.9 MB 332.5 kB/s eta 0:00:28\n",
      "   --- ------------------------------------ 0.7/9.9 MB 339.4 kB/s eta 0:00:27\n",
      "   --- ------------------------------------ 0.8/9.9 MB 346.1 kB/s eta 0:00:27\n",
      "   --- ------------------------------------ 0.8/9.9 MB 350.4 kB/s eta 0:00:26\n",
      "   --- ------------------------------------ 0.8/9.9 MB 343.1 kB/s eta 0:00:27\n",
      "   --- ------------------------------------ 0.9/9.9 MB 357.9 kB/s eta 0:00:26\n",
      "   --- ------------------------------------ 0.9/9.9 MB 384.7 kB/s eta 0:00:24\n",
      "   ---- ----------------------------------- 1.0/9.9 MB 421.6 kB/s eta 0:00:21\n",
      "   ---- ----------------------------------- 1.1/9.9 MB 434.2 kB/s eta 0:00:21\n",
      "   ---- ----------------------------------- 1.2/9.9 MB 470.4 kB/s eta 0:00:19\n",
      "   ----- ---------------------------------- 1.3/9.9 MB 488.6 kB/s eta 0:00:18\n",
      "   ----- ---------------------------------- 1.4/9.9 MB 519.8 kB/s eta 0:00:17\n",
      "   ----- ---------------------------------- 1.4/9.9 MB 519.8 kB/s eta 0:00:17\n",
      "   ----- ---------------------------------- 1.4/9.9 MB 519.8 kB/s eta 0:00:17\n",
      "   ----- ---------------------------------- 1.4/9.9 MB 519.8 kB/s eta 0:00:17\n",
      "   ----- ---------------------------------- 1.4/9.9 MB 519.8 kB/s eta 0:00:17\n",
      "   ----- ---------------------------------- 1.4/9.9 MB 519.8 kB/s eta 0:00:17\n",
      "   ----- ---------------------------------- 1.4/9.9 MB 519.8 kB/s eta 0:00:17\n",
      "   ----- ---------------------------------- 1.4/9.9 MB 519.8 kB/s eta 0:00:17\n",
      "   ----- ---------------------------------- 1.4/9.9 MB 519.8 kB/s eta 0:00:17\n",
      "   ----- ---------------------------------- 1.4/9.9 MB 519.8 kB/s eta 0:00:17\n",
      "   ----- ---------------------------------- 1.4/9.9 MB 519.8 kB/s eta 0:00:17\n",
      "   ----- ---------------------------------- 1.4/9.9 MB 519.8 kB/s eta 0:00:17\n",
      "   ----- ---------------------------------- 1.4/9.9 MB 439.0 kB/s eta 0:00:20\n",
      "   ----- ---------------------------------- 1.4/9.9 MB 434.8 kB/s eta 0:00:20\n",
      "   ----- ---------------------------------- 1.4/9.9 MB 434.8 kB/s eta 0:00:20\n",
      "   ----- ---------------------------------- 1.4/9.9 MB 425.6 kB/s eta 0:00:20\n",
      "   ----- ---------------------------------- 1.4/9.9 MB 425.6 kB/s eta 0:00:20\n",
      "   ----- ---------------------------------- 1.5/9.9 MB 423.9 kB/s eta 0:00:20\n",
      "   ----- ---------------------------------- 1.5/9.9 MB 417.4 kB/s eta 0:00:21\n",
      "   ----- ---------------------------------- 1.5/9.9 MB 417.4 kB/s eta 0:00:21\n",
      "   ----- ---------------------------------- 1.5/9.9 MB 417.4 kB/s eta 0:00:21\n",
      "   ------ --------------------------------- 1.5/9.9 MB 408.6 kB/s eta 0:00:21\n",
      "   ------ --------------------------------- 1.5/9.9 MB 408.6 kB/s eta 0:00:21\n",
      "   ------ --------------------------------- 1.5/9.9 MB 408.6 kB/s eta 0:00:21\n",
      "   ------ --------------------------------- 1.5/9.9 MB 400.4 kB/s eta 0:00:21\n",
      "   ------ --------------------------------- 1.5/9.9 MB 400.4 kB/s eta 0:00:21\n",
      "   ------ --------------------------------- 1.5/9.9 MB 400.4 kB/s eta 0:00:21\n",
      "   ------ --------------------------------- 1.5/9.9 MB 400.4 kB/s eta 0:00:21\n",
      "   ------ --------------------------------- 1.5/9.9 MB 400.4 kB/s eta 0:00:21\n",
      "   ------ --------------------------------- 1.5/9.9 MB 400.4 kB/s eta 0:00:21\n",
      "   ------ --------------------------------- 1.5/9.9 MB 400.4 kB/s eta 0:00:21\n",
      "   ------ --------------------------------- 1.5/9.9 MB 369.1 kB/s eta 0:00:23\n",
      "   ------ --------------------------------- 1.5/9.9 MB 369.1 kB/s eta 0:00:23\n",
      "   ------ --------------------------------- 1.5/9.9 MB 365.7 kB/s eta 0:00:23\n",
      "   ------ --------------------------------- 1.6/9.9 MB 367.6 kB/s eta 0:00:23\n",
      "   ------ --------------------------------- 1.6/9.9 MB 371.0 kB/s eta 0:00:23\n",
      "   ------ --------------------------------- 1.6/9.9 MB 372.8 kB/s eta 0:00:23\n",
      "   ------ --------------------------------- 1.6/9.9 MB 372.4 kB/s eta 0:00:23\n",
      "   ------ --------------------------------- 1.6/9.9 MB 374.5 kB/s eta 0:00:22\n",
      "   ------ --------------------------------- 1.7/9.9 MB 378.1 kB/s eta 0:00:22\n",
      "   ------- -------------------------------- 1.8/9.9 MB 394.6 kB/s eta 0:00:21\n",
      "   ------- -------------------------------- 1.9/9.9 MB 406.3 kB/s eta 0:00:20\n",
      "   ------- -------------------------------- 1.9/9.9 MB 422.8 kB/s eta 0:00:19\n",
      "   -------- ------------------------------- 2.0/9.9 MB 433.3 kB/s eta 0:00:19\n",
      "   -------- ------------------------------- 2.2/9.9 MB 458.8 kB/s eta 0:00:17\n",
      "   --------- ------------------------------ 2.3/9.9 MB 478.6 kB/s eta 0:00:16\n",
      "   --------- ------------------------------ 2.4/9.9 MB 495.2 kB/s eta 0:00:16\n",
      "   ---------- ----------------------------- 2.5/9.9 MB 521.4 kB/s eta 0:00:15\n",
      "   ---------- ----------------------------- 2.7/9.9 MB 540.3 kB/s eta 0:00:14\n",
      "   ---------- ----------------------------- 2.7/9.9 MB 548.6 kB/s eta 0:00:14\n",
      "   ---------- ----------------------------- 2.7/9.9 MB 548.6 kB/s eta 0:00:14\n",
      "   ----------- ---------------------------- 2.8/9.9 MB 549.3 kB/s eta 0:00:13\n",
      "   ----------- ---------------------------- 2.9/9.9 MB 572.5 kB/s eta 0:00:13\n",
      "   ----------- ---------------------------- 2.9/9.9 MB 576.7 kB/s eta 0:00:12\n",
      "   ------------ --------------------------- 3.0/9.9 MB 572.0 kB/s eta 0:00:13\n",
      "   ------------ --------------------------- 3.0/9.9 MB 572.0 kB/s eta 0:00:13\n",
      "   ------------ --------------------------- 3.0/9.9 MB 572.0 kB/s eta 0:00:13\n",
      "   ------------ --------------------------- 3.0/9.9 MB 564.0 kB/s eta 0:00:13\n",
      "   ------------ --------------------------- 3.0/9.9 MB 564.0 kB/s eta 0:00:13\n",
      "   ------------ --------------------------- 3.0/9.9 MB 556.0 kB/s eta 0:00:13\n",
      "   ------------ --------------------------- 3.0/9.9 MB 550.0 kB/s eta 0:00:13\n",
      "   ------------ --------------------------- 3.0/9.9 MB 551.8 kB/s eta 0:00:13\n",
      "   ------------ --------------------------- 3.0/9.9 MB 545.9 kB/s eta 0:00:13\n",
      "   ------------ --------------------------- 3.0/9.9 MB 545.9 kB/s eta 0:00:13\n",
      "   ------------ --------------------------- 3.0/9.9 MB 541.8 kB/s eta 0:00:13\n",
      "   ------------ --------------------------- 3.0/9.9 MB 541.8 kB/s eta 0:00:13\n",
      "   ------------ --------------------------- 3.1/9.9 MB 536.6 kB/s eta 0:00:13\n",
      "   ------------ --------------------------- 3.1/9.9 MB 536.6 kB/s eta 0:00:13\n",
      "   ------------ --------------------------- 3.1/9.9 MB 531.1 kB/s eta 0:00:13\n",
      "   ------------ --------------------------- 3.1/9.9 MB 531.1 kB/s eta 0:00:13\n",
      "   ------------ --------------------------- 3.1/9.9 MB 527.8 kB/s eta 0:00:13\n",
      "   ------------ --------------------------- 3.2/9.9 MB 533.7 kB/s eta 0:00:13\n",
      "   ------------- -------------------------- 3.3/9.9 MB 546.8 kB/s eta 0:00:13\n",
      "   ------------- -------------------------- 3.3/9.9 MB 553.9 kB/s eta 0:00:12\n",
      "   ------------- -------------------------- 3.3/9.9 MB 553.9 kB/s eta 0:00:12\n",
      "   ------------- -------------------------- 3.3/9.9 MB 553.9 kB/s eta 0:00:12\n",
      "   ------------- -------------------------- 3.3/9.9 MB 553.9 kB/s eta 0:00:12\n",
      "   ------------- -------------------------- 3.3/9.9 MB 553.9 kB/s eta 0:00:12\n",
      "   ------------- -------------------------- 3.3/9.9 MB 553.9 kB/s eta 0:00:12\n",
      "   ------------- -------------------------- 3.3/9.9 MB 553.9 kB/s eta 0:00:12\n",
      "   ------------- -------------------------- 3.3/9.9 MB 553.9 kB/s eta 0:00:12\n",
      "   ------------- -------------------------- 3.3/9.9 MB 553.9 kB/s eta 0:00:12\n",
      "   ------------- -------------------------- 3.3/9.9 MB 553.9 kB/s eta 0:00:12\n",
      "   ------------- -------------------------- 3.3/9.9 MB 519.5 kB/s eta 0:00:13\n",
      "   ------------- -------------------------- 3.3/9.9 MB 518.6 kB/s eta 0:00:13\n",
      "   ------------- -------------------------- 3.4/9.9 MB 522.7 kB/s eta 0:00:13\n",
      "   -------------- ------------------------- 3.5/9.9 MB 530.0 kB/s eta 0:00:13\n",
      "   -------------- ------------------------- 3.5/9.9 MB 532.4 kB/s eta 0:00:12\n",
      "   -------------- ------------------------- 3.6/9.9 MB 537.3 kB/s eta 0:00:12\n",
      "   -------------- ------------------------- 3.7/9.9 MB 549.2 kB/s eta 0:00:12\n",
      "   --------------- ------------------------ 3.8/9.9 MB 564.8 kB/s eta 0:00:11\n",
      "   --------------- ------------------------ 3.8/9.9 MB 564.8 kB/s eta 0:00:11\n",
      "   --------------- ------------------------ 3.8/9.9 MB 564.8 kB/s eta 0:00:11\n",
      "   --------------- ------------------------ 3.8/9.9 MB 564.8 kB/s eta 0:00:11\n",
      "   --------------- ------------------------ 3.9/9.9 MB 561.3 kB/s eta 0:00:11\n",
      "   --------------- ------------------------ 3.9/9.9 MB 570.7 kB/s eta 0:00:11\n",
      "   ---------------- ----------------------- 4.0/9.9 MB 578.6 kB/s eta 0:00:11\n",
      "   ---------------- ----------------------- 4.1/9.9 MB 579.2 kB/s eta 0:00:11\n",
      "   ----------------- ---------------------- 4.3/9.9 MB 607.2 kB/s eta 0:00:10\n",
      "   ----------------- ---------------------- 4.3/9.9 MB 610.2 kB/s eta 0:00:10\n",
      "   ----------------- ---------------------- 4.3/9.9 MB 610.2 kB/s eta 0:00:10\n",
      "   ----------------- ---------------------- 4.3/9.9 MB 610.2 kB/s eta 0:00:10\n",
      "   ----------------- ---------------------- 4.3/9.9 MB 610.2 kB/s eta 0:00:10\n",
      "   ----------------- ---------------------- 4.3/9.9 MB 610.2 kB/s eta 0:00:10\n",
      "   ----------------- ---------------------- 4.3/9.9 MB 610.2 kB/s eta 0:00:10\n",
      "   ----------------- ---------------------- 4.3/9.9 MB 590.8 kB/s eta 0:00:10\n",
      "   ----------------- ---------------------- 4.4/9.9 MB 594.0 kB/s eta 0:00:10\n",
      "   ----------------- ---------------------- 4.4/9.9 MB 595.8 kB/s eta 0:00:10\n",
      "   ------------------ --------------------- 4.5/9.9 MB 600.2 kB/s eta 0:00:09\n",
      "   ------------------ --------------------- 4.5/9.9 MB 603.2 kB/s eta 0:00:09\n",
      "   ------------------ --------------------- 4.5/9.9 MB 604.8 kB/s eta 0:00:09\n",
      "   ------------------ --------------------- 4.5/9.9 MB 604.8 kB/s eta 0:00:09\n",
      "   ------------------ --------------------- 4.5/9.9 MB 604.8 kB/s eta 0:00:09\n",
      "   ------------------ --------------------- 4.6/9.9 MB 595.2 kB/s eta 0:00:09\n",
      "   ------------------ --------------------- 4.6/9.9 MB 602.2 kB/s eta 0:00:09\n",
      "   ------------------- -------------------- 4.7/9.9 MB 609.1 kB/s eta 0:00:09\n",
      "   ------------------- -------------------- 4.9/9.9 MB 625.3 kB/s eta 0:00:08\n",
      "   -------------------- ------------------- 5.1/9.9 MB 647.5 kB/s eta 0:00:08\n",
      "   --------------------- ------------------ 5.3/9.9 MB 664.5 kB/s eta 0:00:07\n",
      "   --------------------- ------------------ 5.3/9.9 MB 668.3 kB/s eta 0:00:07\n",
      "   ---------------------- ----------------- 5.5/9.9 MB 687.5 kB/s eta 0:00:07\n",
      "   ----------------------- ---------------- 5.8/9.9 MB 717.9 kB/s eta 0:00:06\n",
      "   ----------------------- ---------------- 5.9/9.9 MB 729.1 kB/s eta 0:00:06\n",
      "   ----------------------- ---------------- 5.9/9.9 MB 727.4 kB/s eta 0:00:06\n",
      "   ------------------------ --------------- 6.0/9.9 MB 738.1 kB/s eta 0:00:06\n",
      "   ------------------------- -------------- 6.2/9.9 MB 757.5 kB/s eta 0:00:05\n",
      "   -------------------------- ------------- 6.4/9.9 MB 775.8 kB/s eta 0:00:05\n",
      "   -------------------------- ------------- 6.5/9.9 MB 780.0 kB/s eta 0:00:05\n",
      "   -------------------------- ------------- 6.5/9.9 MB 778.3 kB/s eta 0:00:05\n",
      "   -------------------------- ------------- 6.5/9.9 MB 776.4 kB/s eta 0:00:05\n",
      "   -------------------------- ------------- 6.5/9.9 MB 774.5 kB/s eta 0:00:05\n",
      "   -------------------------- ------------- 6.6/9.9 MB 780.6 kB/s eta 0:00:05\n",
      "   --------------------------- ------------ 6.8/9.9 MB 796.7 kB/s eta 0:00:04\n",
      "   ---------------------------- ----------- 6.9/9.9 MB 803.4 kB/s eta 0:00:04\n",
      "   ---------------------------- ----------- 6.9/9.9 MB 803.4 kB/s eta 0:00:04\n",
      "   ---------------------------- ----------- 6.9/9.9 MB 803.4 kB/s eta 0:00:04\n",
      "   ---------------------------- ----------- 7.0/9.9 MB 798.4 kB/s eta 0:00:04\n",
      "   ---------------------------- ----------- 7.1/9.9 MB 813.1 kB/s eta 0:00:04\n",
      "   ----------------------------- ---------- 7.3/9.9 MB 825.9 kB/s eta 0:00:04\n",
      "   ----------------------------- ---------- 7.3/9.9 MB 825.9 kB/s eta 0:00:04\n",
      "   ----------------------------- ---------- 7.3/9.9 MB 825.9 kB/s eta 0:00:04\n",
      "   ----------------------------- ---------- 7.3/9.9 MB 817.8 kB/s eta 0:00:04\n",
      "   ------------------------------ --------- 7.5/9.9 MB 831.7 kB/s eta 0:00:03\n",
      "   ------------------------------- -------- 7.7/9.9 MB 845.5 kB/s eta 0:00:03\n",
      "   ------------------------------- -------- 7.9/9.9 MB 862.5 kB/s eta 0:00:03\n",
      "   -------------------------------- ------- 8.1/9.9 MB 886.5 kB/s eta 0:00:02\n",
      "   -------------------------------- ------- 8.1/9.9 MB 885.8 kB/s eta 0:00:02\n",
      "   -------------------------------- ------- 8.1/9.9 MB 885.8 kB/s eta 0:00:02\n",
      "   -------------------------------- ------- 8.1/9.9 MB 876.5 kB/s eta 0:00:02\n",
      "   -------------------------------- ------- 8.1/9.9 MB 876.5 kB/s eta 0:00:02\n",
      "   --------------------------------- ------ 8.2/9.9 MB 868.4 kB/s eta 0:00:02\n",
      "   --------------------------------- ------ 8.2/9.9 MB 868.4 kB/s eta 0:00:02\n",
      "   --------------------------------- ------ 8.2/9.9 MB 868.4 kB/s eta 0:00:02\n",
      "   --------------------------------- ------ 8.2/9.9 MB 868.4 kB/s eta 0:00:02\n",
      "   --------------------------------- ------ 8.2/9.9 MB 868.4 kB/s eta 0:00:02\n",
      "   --------------------------------- ------ 8.2/9.9 MB 868.4 kB/s eta 0:00:02\n",
      "   --------------------------------- ------ 8.2/9.9 MB 851.6 kB/s eta 0:00:02\n",
      "   ---------------------------------- ----- 8.4/9.9 MB 867.5 kB/s eta 0:00:02\n",
      "   ----------------------------------- ---- 8.8/9.9 MB 898.4 kB/s eta 0:00:02\n",
      "   ------------------------------------- -- 9.3/9.9 MB 945.9 kB/s eta 0:00:01\n",
      "   ---------------------------------------  9.6/9.9 MB 976.8 kB/s eta 0:00:01\n",
      "   ---------------------------------------  9.9/9.9 MB 996.5 kB/s eta 0:00:01\n",
      "   ---------------------------------------- 9.9/9.9 MB 995.6 kB/s eta 0:00:00\n",
      "Using cached pandas-1.5.3-cp310-cp310-win_amd64.whl (10.4 MB)\n",
      "Downloading altair-5.5.0-py3-none-any.whl (731 kB)\n",
      "   ---------------------------------------- 0.0/731.2 kB ? eta -:--:--\n",
      "   - -------------------------------------- 30.7/731.2 kB 1.4 MB/s eta 0:00:01\n",
      "   ------ --------------------------------- 112.6/731.2 kB 1.3 MB/s eta 0:00:01\n",
      "   ------------------------ --------------- 450.6/731.2 kB 3.5 MB/s eta 0:00:01\n",
      "   ---------------------------------------- 731.2/731.2 kB 4.6 MB/s eta 0:00:00\n",
      "Downloading blinker-1.9.0-py3-none-any.whl (8.5 kB)\n",
      "Downloading cachetools-5.5.2-py3-none-any.whl (10 kB)\n",
      "Downloading GitPython-3.1.44-py3-none-any.whl (207 kB)\n",
      "   ---------------------------------------- 0.0/207.6 kB ? eta -:--:--\n",
      "   ----------------------------- ---------- 153.6/207.6 kB 4.6 MB/s eta 0:00:01\n",
      "   ---------------------------------------- 207.6/207.6 kB 4.2 MB/s eta 0:00:00\n",
      "Downloading pydeck-0.9.1-py2.py3-none-any.whl (6.9 MB)\n",
      "   ---------------------------------------- 0.0/6.9 MB ? eta -:--:--\n",
      "   - -------------------------------------- 0.3/6.9 MB 15.4 MB/s eta 0:00:01\n",
      "   --- ------------------------------------ 0.6/6.9 MB 10.1 MB/s eta 0:00:01\n",
      "   ------ --------------------------------- 1.1/6.9 MB 9.8 MB/s eta 0:00:01\n",
      "   ------- -------------------------------- 1.2/6.9 MB 8.7 MB/s eta 0:00:01\n",
      "   ------- -------------------------------- 1.2/6.9 MB 7.2 MB/s eta 0:00:01\n",
      "   ------- -------------------------------- 1.3/6.9 MB 6.2 MB/s eta 0:00:01\n",
      "   ------- -------------------------------- 1.3/6.9 MB 4.3 MB/s eta 0:00:02\n",
      "   ------- -------------------------------- 1.3/6.9 MB 3.8 MB/s eta 0:00:02\n",
      "   ------- -------------------------------- 1.3/6.9 MB 3.7 MB/s eta 0:00:02\n",
      "   -------- ------------------------------- 1.5/6.9 MB 3.6 MB/s eta 0:00:02\n",
      "   ---------- ----------------------------- 1.8/6.9 MB 3.9 MB/s eta 0:00:02\n",
      "   ------------ --------------------------- 2.2/6.9 MB 4.5 MB/s eta 0:00:02\n",
      "   ------------ --------------------------- 2.2/6.9 MB 4.1 MB/s eta 0:00:02\n",
      "   -------------- ------------------------- 2.4/6.9 MB 4.1 MB/s eta 0:00:02\n",
      "   ---------------- ----------------------- 2.8/6.9 MB 4.5 MB/s eta 0:00:01\n",
      "   ------------------ --------------------- 3.3/6.9 MB 4.8 MB/s eta 0:00:01\n",
      "   ---------------------- ----------------- 3.8/6.9 MB 5.4 MB/s eta 0:00:01\n",
      "   ---------------------- ----------------- 3.9/6.9 MB 5.2 MB/s eta 0:00:01\n",
      "   ---------------------- ----------------- 3.9/6.9 MB 5.1 MB/s eta 0:00:01\n",
      "   ----------------------- ---------------- 4.0/6.9 MB 4.9 MB/s eta 0:00:01\n",
      "   ----------------------- ---------------- 4.1/6.9 MB 4.7 MB/s eta 0:00:01\n",
      "   -------------------------- ------------- 4.6/6.9 MB 5.1 MB/s eta 0:00:01\n",
      "   ---------------------------- ----------- 4.9/6.9 MB 5.3 MB/s eta 0:00:01\n",
      "   ---------------------------- ----------- 4.9/6.9 MB 5.0 MB/s eta 0:00:01\n",
      "   ---------------------------- ----------- 4.9/6.9 MB 4.9 MB/s eta 0:00:01\n",
      "   ---------------------------- ----------- 4.9/6.9 MB 4.9 MB/s eta 0:00:01\n",
      "   ----------------------------- ---------- 5.1/6.9 MB 4.5 MB/s eta 0:00:01\n",
      "   ------------------------------- -------- 5.4/6.9 MB 4.6 MB/s eta 0:00:01\n",
      "   ---------------------------------- ----- 5.9/6.9 MB 5.0 MB/s eta 0:00:01\n",
      "   ------------------------------------ --- 6.3/6.9 MB 5.1 MB/s eta 0:00:01\n",
      "   ------------------------------------- -- 6.4/6.9 MB 4.9 MB/s eta 0:00:01\n",
      "   ---------------------------------------  6.9/6.9 MB 5.2 MB/s eta 0:00:01\n",
      "   ---------------------------------------- 6.9/6.9 MB 5.1 MB/s eta 0:00:00\n",
      "Using cached typing_extensions-4.13.2-py3-none-any.whl (45 kB)\n",
      "Downloading gitdb-4.0.12-py3-none-any.whl (62 kB)\n",
      "   ---------------------------------------- 0.0/62.8 kB ? eta -:--:--\n",
      "   ---------------------------------------- 62.8/62.8 kB ? eta 0:00:00\n",
      "Downloading narwhals-1.40.0-py3-none-any.whl (357 kB)\n",
      "   ---------------------------------------- 0.0/357.3 kB ? eta -:--:--\n",
      "   --------------------------------------- 357.3/357.3 kB 21.7 MB/s eta 0:00:00\n",
      "Downloading smmap-5.0.2-py3-none-any.whl (24 kB)\n",
      "Installing collected packages: typing-extensions, smmap, narwhals, cachetools, blinker, pydeck, pandas, gitdb, gitpython, altair, streamlit\n",
      "  Attempting uninstall: typing-extensions\n",
      "    Found existing installation: typing_extensions 4.9.0\n",
      "    Uninstalling typing_extensions-4.9.0:\n",
      "      Successfully uninstalled typing_extensions-4.9.0\n",
      "  Attempting uninstall: pandas\n",
      "    Found existing installation: pandas 2.2.3\n",
      "    Uninstalling pandas-2.2.3:\n",
      "      Successfully uninstalled pandas-2.2.3\n",
      "Successfully installed altair-5.5.0 blinker-1.9.0 cachetools-5.5.2 gitdb-4.0.12 gitpython-3.1.44 narwhals-1.40.0 pandas-1.5.3 pydeck-0.9.1 smmap-5.0.2 streamlit-1.45.1 typing-extensions-4.13.2\n"
     ]
    },
    {
     "name": "stderr",
     "output_type": "stream",
     "text": [
      "WARNING: Ignoring invalid distribution -atplotlib (c:\\users\\faraz\\anaconda3\\lib\\site-packages)\n",
      "WARNING: Ignoring invalid distribution -atplotlib (c:\\users\\faraz\\anaconda3\\lib\\site-packages)\n",
      "ERROR: pip's dependency resolver does not currently take into account all the packages that are installed. This behaviour is the source of the following dependency conflicts.\n",
      "econml 0.15.1 requires shap<0.44.0,>=0.38.1, but you have shap 0.46.0 which is incompatible.\n",
      "fairlearn 0.11.0 requires pandas>=2.0.3, but you have pandas 1.5.3 which is incompatible.\n",
      "patra-toolkit 0.1.2 requires pandas>=2.0.0, but you have pandas 1.5.3 which is incompatible.\n",
      "raiwidgets 0.36.0 requires fairlearn==0.7.0, but you have fairlearn 0.11.0 which is incompatible.\n",
      "spacy-transformers 1.3.5 requires transformers<4.37.0,>=3.4.0, but you have transformers 4.46.1 which is incompatible.\n",
      "torchaudio 2.2.2+cu121 requires torch==2.2.2+cu121, but you have torch 2.5.1 which is incompatible.\n"
     ]
    }
   ],
   "source": [
    "!pip install streamlit shap dice-ml joblib pandas scikit-learn\n"
   ]
  },
  {
   "cell_type": "code",
   "execution_count": 64,
   "metadata": {},
   "outputs": [
    {
     "name": "stdout",
     "output_type": "stream",
     "text": [
      "Requirement already satisfied: ipywidgets in c:\\users\\faraz\\anaconda3\\lib\\site-packages (8.1.2)\n",
      "Requirement already satisfied: comm>=0.1.3 in c:\\users\\faraz\\anaconda3\\lib\\site-packages (from ipywidgets) (0.2.1)\n",
      "Requirement already satisfied: ipython>=6.1.0 in c:\\users\\faraz\\anaconda3\\lib\\site-packages (from ipywidgets) (8.20.0)\n",
      "Requirement already satisfied: traitlets>=4.3.1 in c:\\users\\faraz\\anaconda3\\lib\\site-packages (from ipywidgets) (5.7.1)\n",
      "Requirement already satisfied: widgetsnbextension~=4.0.10 in c:\\users\\faraz\\anaconda3\\lib\\site-packages (from ipywidgets) (4.0.10)\n",
      "Requirement already satisfied: jupyterlab-widgets~=3.0.10 in c:\\users\\faraz\\anaconda3\\lib\\site-packages (from ipywidgets) (3.0.10)\n",
      "Requirement already satisfied: decorator in c:\\users\\faraz\\anaconda3\\lib\\site-packages (from ipython>=6.1.0->ipywidgets) (5.1.1)\n",
      "Requirement already satisfied: jedi>=0.16 in c:\\users\\faraz\\anaconda3\\lib\\site-packages (from ipython>=6.1.0->ipywidgets) (0.18.1)\n",
      "Requirement already satisfied: matplotlib-inline in c:\\users\\faraz\\anaconda3\\lib\\site-packages (from ipython>=6.1.0->ipywidgets) (0.1.6)\n",
      "Requirement already satisfied: prompt-toolkit<3.1.0,>=3.0.41 in c:\\users\\faraz\\anaconda3\\lib\\site-packages (from ipython>=6.1.0->ipywidgets) (3.0.43)\n",
      "Requirement already satisfied: pygments>=2.4.0 in c:\\users\\faraz\\anaconda3\\lib\\site-packages (from ipython>=6.1.0->ipywidgets) (2.15.1)\n",
      "Requirement already satisfied: stack-data in c:\\users\\faraz\\anaconda3\\lib\\site-packages (from ipython>=6.1.0->ipywidgets) (0.2.0)\n",
      "Requirement already satisfied: exceptiongroup in c:\\users\\faraz\\anaconda3\\lib\\site-packages (from ipython>=6.1.0->ipywidgets) (1.2.0)\n",
      "Requirement already satisfied: colorama in c:\\users\\faraz\\anaconda3\\lib\\site-packages (from ipython>=6.1.0->ipywidgets) (0.4.6)\n",
      "Requirement already satisfied: parso<0.9.0,>=0.8.0 in c:\\users\\faraz\\anaconda3\\lib\\site-packages (from jedi>=0.16->ipython>=6.1.0->ipywidgets) (0.8.3)\n",
      "Requirement already satisfied: wcwidth in c:\\users\\faraz\\anaconda3\\lib\\site-packages (from prompt-toolkit<3.1.0,>=3.0.41->ipython>=6.1.0->ipywidgets) (0.2.5)\n",
      "Requirement already satisfied: executing in c:\\users\\faraz\\anaconda3\\lib\\site-packages (from stack-data->ipython>=6.1.0->ipywidgets) (0.8.3)\n",
      "Requirement already satisfied: asttokens in c:\\users\\faraz\\anaconda3\\lib\\site-packages (from stack-data->ipython>=6.1.0->ipywidgets) (2.0.5)\n",
      "Requirement already satisfied: pure-eval in c:\\users\\faraz\\anaconda3\\lib\\site-packages (from stack-data->ipython>=6.1.0->ipywidgets) (0.2.2)\n",
      "Requirement already satisfied: six in c:\\users\\faraz\\anaconda3\\lib\\site-packages (from asttokens->stack-data->ipython>=6.1.0->ipywidgets) (1.16.0)\n"
     ]
    },
    {
     "name": "stderr",
     "output_type": "stream",
     "text": [
      "WARNING: Ignoring invalid distribution -atplotlib (c:\\users\\faraz\\anaconda3\\lib\\site-packages)\n",
      "WARNING: Ignoring invalid distribution -atplotlib (c:\\users\\faraz\\anaconda3\\lib\\site-packages)\n"
     ]
    }
   ],
   "source": [
    "!pip install ipywidgets"
   ]
  },
  {
   "cell_type": "markdown",
   "metadata": {},
   "source": [
    "# Contestability"
   ]
  },
  {
   "cell_type": "code",
   "execution_count": 67,
   "metadata": {},
   "outputs": [
    {
     "data": {
      "application/vnd.jupyter.widget-view+json": {
       "model_id": "92501c71de674effb9c6299bc4c43db6",
       "version_major": 2,
       "version_minor": 0
      },
      "text/plain": [
       "VBox(children=(BoundedIntText(value=0, description='Applicant ID:', max=1999), Button(button_style='info', des…"
      ]
     },
     "metadata": {},
     "output_type": "display_data"
    }
   ],
   "source": [
    "import pandas as pd\n",
    "import numpy as np\n",
    "import joblib\n",
    "import shap\n",
    "import dice_ml\n",
    "from dice_ml import Dice\n",
    "import matplotlib.pyplot as plt\n",
    "from IPython.display import display, clear_output\n",
    "import ipywidgets as widgets\n",
    "\n",
    "# 1) Load model & data\n",
    "model = joblib.load(\"reweighted_model.pkl\")\n",
    "model.feature_names_in_ = X.columns.values\n",
    "url = \"https://raw.githubusercontent.com/CDEIUK/bias-mitigation/refs/heads/master/artifacts/data/recruiting/processed/test.csv\"\n",
    "df = pd.read_csv(url)\n",
    "X = df.drop(columns=[\"employed_yes\"])\n",
    "y = df[\"employed_yes\"]\n",
    "\n",
    "\n",
    "\n",
    "# 2) Init SHAP & DiCE\n",
    "explainer = shap.TreeExplainer(model, feature_perturbation=\"tree_path_dependent\")\n",
    "\n",
    "dice_data = dice_ml.Data(\n",
    "    dataframe=pd.concat([X, y], axis=1),\n",
    "    continuous_features=X.columns.tolist(),\n",
    "    outcome_name=\"employed_yes\"\n",
    ")\n",
    "dice_model = dice_ml.Model(model=model, backend=\"sklearn\")\n",
    "dice_exp = Dice(dice_data, dice_model, method=\"random\")\n",
    "\n",
    "# 3) Build widgets\n",
    "cid_w      = widgets.BoundedIntText(value=0, min=0, max=len(X)-1, description=\"Applicant ID:\")\n",
    "explain_b  = widgets.Button(description=\"Explain Decision\", button_style=\"info\")\n",
    "appeal_txt = widgets.Textarea(placeholder=\"Describe your concern...\", description=\"Appeal:\")\n",
    "submit_b   = widgets.Button(description=\"Submit Appeal\", button_style=\"warning\")\n",
    "out        = widgets.Output()\n",
    "\n",
    "# 4) Define callbacks\n",
    "def on_explain(_):\n",
    "    with out:\n",
    "        clear_output()\n",
    "        cid = cid_w.value\n",
    "        row = X.iloc[[cid]]\n",
    "        prob = model.predict_proba(row)[0,1]\n",
    "        print(f\"🔎 Hiring probability: {prob:.1%}\\n\")\n",
    "        \n",
    "        # SHAP bar chart\n",
    "        shap_vals = explainer.shap_values(row, check_additivity=False)[1][0]\n",
    "        expl = shap.Explanation(\n",
    "            values=shap_vals,\n",
    "            base_values=explainer.expected_value[1],\n",
    "            data=row.values[0],\n",
    "            feature_names=X.columns.tolist()\n",
    "        )\n",
    "        shap.plots.bar(expl, max_display=10, show=False)\n",
    "        display(plt.gcf())\n",
    "        plt.clf()\n",
    "        \n",
    "        # Counterfactual recourse\n",
    "        cf = dice_exp.generate_counterfactuals(\n",
    "            row, total_CFs=3, desired_class=\"opposite\"\n",
    "        )\n",
    "        cf_df = cf.cf_examples_list[0].final_cfs_df\n",
    "        print(\"🔄 Counterfactual suggestions:\\n\")\n",
    "        display(cf_df)\n",
    "\n",
    "def on_submit(_):\n",
    "    with out:\n",
    "        reason = appeal_txt.value.strip()\n",
    "        if not reason:\n",
    "            print(\"⚠️ Please enter a reason for your appeal.\")\n",
    "            return\n",
    "        cid = cid_w.value\n",
    "        ts = pd.Timestamp.now().strftime(\"%Y-%m-%d %H:%M:%S\")\n",
    "        # Log to a file (or hook into your backend)\n",
    "        with open(\"appeals.log\", \"a\") as f:\n",
    "            f.write(f\"{ts} | ID {cid} | {reason}\\n\")\n",
    "        print(f\"✅ Appeal submitted for Applicant {cid} at {ts}\")\n",
    "        appeal_txt.value = \"\"\n",
    "\n",
    "# 5) Wire up & display\n",
    "explain_b.on_click(on_explain)\n",
    "submit_b.on_click(on_submit)\n",
    "\n",
    "display(widgets.VBox([\n",
    "    cid_w,\n",
    "    explain_b,\n",
    "    widgets.HTML(\"<hr style='margin:10px 0;'>\"),\n",
    "    appeal_txt,\n",
    "    submit_b,\n",
    "    widgets.HTML(\"<hr style='margin:10px 0;'>\"),\n",
    "    out\n",
    "]))"
   ]
  },
  {
   "cell_type": "code",
   "execution_count": null,
   "metadata": {},
   "outputs": [],
   "source": []
  }
 ],
 "metadata": {
  "colab": {
   "provenance": []
  },
  "kernelspec": {
   "display_name": "Python 3 (ipykernel)",
   "language": "python",
   "name": "python3"
  },
  "language_info": {
   "codemirror_mode": {
    "name": "ipython",
    "version": 3
   },
   "file_extension": ".py",
   "mimetype": "text/x-python",
   "name": "python",
   "nbconvert_exporter": "python",
   "pygments_lexer": "ipython3",
   "version": "3.10.14"
  }
 },
 "nbformat": 4,
 "nbformat_minor": 4
}
